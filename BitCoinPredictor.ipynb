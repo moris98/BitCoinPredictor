{
 "cells": [
  {
   "cell_type": "code",
   "execution_count": 1,
   "metadata": {},
   "outputs": [],
   "source": [
    "import numpy as np # used for scientific computing\n",
    "import pandas as pd # used for data analysis and manipulation\n",
    "import matplotlib.pyplot as plt # used for3 visualization and plotting"
   ]
  },
  {
   "cell_type": "code",
   "execution_count": 2,
   "metadata": {},
   "outputs": [],
   "source": [
    "dfTweets= pd.read_csv('CleanData_100k_with_prediction.csv')\n",
    "dfFare= pd.read_csv('Binance_BTCUSDT_1h.csv')"
   ]
  },
  {
   "cell_type": "code",
   "execution_count": 3,
   "metadata": {},
   "outputs": [],
   "source": [
    "del dfTweets['Unnamed: 0']\n",
    "del dfTweets['Unnamed: 11']\n",
    "del dfTweets['Unnamed: 12']\n",
    "del dfTweets['Unnamed: 13']\n",
    "\n"
   ]
  },
  {
   "cell_type": "markdown",
   "metadata": {},
   "source": [
    "detecting NA"
   ]
  },
  {
   "cell_type": "code",
   "execution_count": 4,
   "metadata": {},
   "outputs": [],
   "source": [
    "naCounter=[(dfTweets[i].isna().sum(), i) for i in dfTweets.columns]\n",
    "# print(naCounter)"
   ]
  },
  {
   "cell_type": "markdown",
   "metadata": {},
   "source": [
    "new feature with 1 if location exists and 0 if not"
   ]
  },
  {
   "cell_type": "code",
   "execution_count": 5,
   "metadata": {},
   "outputs": [],
   "source": [
    "user_loaction_before_preprocess=dfTweets['user_location']\n",
    "user_loaction_after_preprocess=[1 if type(value)!=float else 0 for value in user_loaction_before_preprocess]\n",
    "dfTweets['location_new_feature']=user_loaction_after_preprocess"
   ]
  },
  {
   "cell_type": "markdown",
   "metadata": {},
   "source": [
    "convert features of type time in string to timestamp"
   ]
  },
  {
   "cell_type": "code",
   "execution_count": 6,
   "metadata": {},
   "outputs": [],
   "source": [
    "from datetime import datetime\n",
    "from datetime import timezone\n",
    "def strToTimeStampConvertor(i_timeStr):\n",
    "    return datetime.strptime(i_timeStr, '%d/%m/%Y %H:%M')"
   ]
  },
  {
   "cell_type": "code",
   "execution_count": 7,
   "metadata": {},
   "outputs": [],
   "source": [
    "dfTweets.user_created = dfTweets.user_created.apply(strToTimeStampConvertor)\n",
    "dfTweets.date_new = dfTweets.date_new.apply(strToTimeStampConvertor)"
   ]
  },
  {
   "cell_type": "markdown",
   "metadata": {},
   "source": [
    "make new feature with seniority (number of days from signup to tweet) - then deivide the goup into three bins of seniority"
   ]
  },
  {
   "cell_type": "code",
   "execution_count": 8,
   "metadata": {},
   "outputs": [],
   "source": [
    "user_created_date=np.array(dfTweets['user_created'])\n",
    "user_tweet_date=np.array(dfTweets['date_new'])\n",
    "dfTweets['seniority']=user_tweet_date-user_created_date\n",
    "dfTweets=dfTweets.sort_values(by=['seniority'])\n",
    "first_max_threshold_seniority=np.array(dfTweets.seniority)[len(dfTweets.seniority)//3]\n",
    "second_max_threshold_seniority=np.array(dfTweets.seniority)[(2*len(dfTweets.seniority))//3]"
   ]
  },
  {
   "cell_type": "code",
   "execution_count": 9,
   "metadata": {},
   "outputs": [],
   "source": [
    "def mapSeniority(seniorityInDays):\n",
    "    if(seniorityInDays)<=first_max_threshold_seniority:\n",
    "        return 0\n",
    "    if(seniorityInDays)<=second_max_threshold_seniority:\n",
    "        return 1    \n",
    "    else :return 2    "
   ]
  },
  {
   "cell_type": "code",
   "execution_count": 10,
   "metadata": {},
   "outputs": [],
   "source": [
    "dfTweets.seniority=dfTweets.seniority.apply(mapSeniority)"
   ]
  },
  {
   "cell_type": "markdown",
   "metadata": {},
   "source": [
    "new feature that divides the data by popularity"
   ]
  },
  {
   "cell_type": "code",
   "execution_count": 11,
   "metadata": {},
   "outputs": [],
   "source": [
    "dfTweets=dfTweets.sort_values(by=['user_followers'])\n",
    "first_max_threshold=np.array(dfTweets.user_followers)[len(dfTweets.user_followers)//3]\n",
    "second_max_threshold=np.array(dfTweets.user_followers)[(2*len(dfTweets.user_followers))//3]"
   ]
  },
  {
   "cell_type": "code",
   "execution_count": 12,
   "metadata": {},
   "outputs": [],
   "source": [
    "def mapPopularity(numFollowers):\n",
    "    if(numFollowers)<=first_max_threshold:\n",
    "        return 0\n",
    "    if(numFollowers)<=second_max_threshold:\n",
    "        return 1    \n",
    "    else :return 2    "
   ]
  },
  {
   "cell_type": "code",
   "execution_count": 13,
   "metadata": {},
   "outputs": [],
   "source": [
    "dfTweets['popularity']=dfTweets.user_followers\n",
    "dfTweets['popularity']=dfTweets.popularity.apply(mapPopularity)"
   ]
  },
  {
   "cell_type": "markdown",
   "metadata": {},
   "source": [
    "grouping by source feature"
   ]
  },
  {
   "cell_type": "code",
   "execution_count": 14,
   "metadata": {},
   "outputs": [],
   "source": [
    "unique,counts=np.unique(np.array(dfTweets['source']),return_counts=True)"
   ]
  },
  {
   "cell_type": "code",
   "execution_count": 15,
   "metadata": {},
   "outputs": [],
   "source": [
    "# for i in range(len(unique)):\n",
    "#     print(\"{} {}\".format(unique[i],counts[i]))  "
   ]
  },
  {
   "cell_type": "code",
   "execution_count": 16,
   "metadata": {},
   "outputs": [],
   "source": [
    "def groupBySource(instanceSource):\n",
    "    if(instanceSource=='Twitter Web App'):#most popular\n",
    "        return 2\n",
    "    if(instanceSource=='Twitter for iPhone'):#second most popular\n",
    "        return 1\n",
    "    else :#others\n",
    "        return 0 \n",
    "dfTweets[\"source_group\"]=dfTweets.source\n",
    "dfTweets.source_group=dfTweets.source_group.apply(groupBySource)               "
   ]
  },
  {
   "cell_type": "markdown",
   "metadata": {},
   "source": [
    "new feature that aggregates the seniority with the verified"
   ]
  },
  {
   "cell_type": "code",
   "execution_count": 17,
   "metadata": {},
   "outputs": [],
   "source": [
    "aggregationOfSeniorityWithVerified = dfTweets.user_verified\n",
    "for i,a in enumerate(aggregationOfSeniorityWithVerified):\n",
    "    if (a and (np.array(dfTweets.seniority)[i]==1 or np.array(dfTweets.seniority)[i]==2)):\n",
    "        a=1\n",
    "    else:\n",
    "        a=0    \n",
    "dfTweets[\"aggregationOfSeniorityWithVerified\"]=aggregationOfSeniorityWithVerified    "
   ]
  },
  {
   "cell_type": "markdown",
   "metadata": {},
   "source": [
    "putting the label if the bitcoin value went up or down in the hour following the tweet"
   ]
  },
  {
   "cell_type": "code",
   "execution_count": 18,
   "metadata": {},
   "outputs": [],
   "source": [
    "dfFare.date=dfFare.date.apply(strToTimeStampConvertor)"
   ]
  },
  {
   "cell_type": "code",
   "execution_count": 19,
   "metadata": {},
   "outputs": [],
   "source": [
    "from datetime import datetime, timedelta\n",
    "def hour_rounder(timeStamp):\n",
    "    return(timeStamp.replace(second=0, minute=0, hour=timeStamp.hour)\n",
    "               +timedelta(hours=1))\n",
    "         "
   ]
  },
  {
   "cell_type": "code",
   "execution_count": 20,
   "metadata": {},
   "outputs": [],
   "source": [
    "def labelTheData(timeStamp):\n",
    "    roundedUpTimeStamp=hour_rounder(timeStamp)\n",
    "    return 1 if np.array(dfFare[dfFare.date==roundedUpTimeStamp]['up/down'])[0]=='up' else 0\n"
   ]
  },
  {
   "cell_type": "code",
   "execution_count": 21,
   "metadata": {},
   "outputs": [],
   "source": [
    "dfTweets[\"label\"]=dfTweets.date_new\n",
    "dfTweets[\"label\"]=dfTweets.label.apply(labelTheData)"
   ]
  },
  {
   "cell_type": "markdown",
   "metadata": {},
   "source": [
    "tweet positive/negative cleaning"
   ]
  },
  {
   "cell_type": "code",
   "execution_count": 22,
   "metadata": {},
   "outputs": [],
   "source": [
    "dfTweets.pred=dfTweets.pred.apply(lambda x : x.split(\"'\")[1])"
   ]
  },
  {
   "cell_type": "code",
   "execution_count": 23,
   "metadata": {},
   "outputs": [],
   "source": [
    "def convertPositiveTo1NegativeTo0(sentiment):\n",
    "    return 1 if sentiment=='positive' else 0"
   ]
  },
  {
   "cell_type": "code",
   "execution_count": 24,
   "metadata": {},
   "outputs": [],
   "source": [
    "dfTweets['predBinary']=dfTweets.pred.apply(convertPositiveTo1NegativeTo0)"
   ]
  },
  {
   "cell_type": "markdown",
   "metadata": {},
   "source": [
    "anterior counting"
   ]
  },
  {
   "cell_type": "code",
   "execution_count": 25,
   "metadata": {},
   "outputs": [
    {
     "name": "stdout",
     "output_type": "stream",
     "text": [
      "20436\n",
      "5344\n"
     ]
    }
   ],
   "source": [
    "print(len(dfTweets[dfTweets.predBinary==1]))\n",
    "print(len(dfTweets[dfTweets.predBinary==0]))"
   ]
  },
  {
   "cell_type": "code",
   "execution_count": 26,
   "metadata": {},
   "outputs": [
    {
     "data": {
      "text/html": [
       "<div>\n",
       "<style scoped>\n",
       "    .dataframe tbody tr th:only-of-type {\n",
       "        vertical-align: middle;\n",
       "    }\n",
       "\n",
       "    .dataframe tbody tr th {\n",
       "        vertical-align: top;\n",
       "    }\n",
       "\n",
       "    .dataframe thead th {\n",
       "        text-align: right;\n",
       "    }\n",
       "</style>\n",
       "<table border=\"1\" class=\"dataframe\">\n",
       "  <thead>\n",
       "    <tr style=\"text-align: right;\">\n",
       "      <th></th>\n",
       "      <th>source</th>\n",
       "      <th>user_created</th>\n",
       "      <th>user_location</th>\n",
       "      <th>user_description</th>\n",
       "      <th>user_followers</th>\n",
       "      <th>user_verified</th>\n",
       "      <th>date</th>\n",
       "      <th>date_new</th>\n",
       "      <th>tweet</th>\n",
       "      <th>pred</th>\n",
       "      <th>location_new_feature</th>\n",
       "      <th>seniority</th>\n",
       "      <th>popularity</th>\n",
       "      <th>source_group</th>\n",
       "      <th>aggregationOfSeniorityWithVerified</th>\n",
       "      <th>label</th>\n",
       "      <th>predBinary</th>\n",
       "    </tr>\n",
       "  </thead>\n",
       "  <tbody>\n",
       "    <tr>\n",
       "      <th>25122</th>\n",
       "      <td>Twitter for iPhone</td>\n",
       "      <td>2013-02-13 19:24:00</td>\n",
       "      <td>NaN</td>\n",
       "      <td>Ministro de Hacienda/Finance Minister</td>\n",
       "      <td>100107</td>\n",
       "      <td>True</td>\n",
       "      <td>24/03/2022</td>\n",
       "      <td>2022-03-24 21:23:00</td>\n",
       "      <td>Work 🇸🇻.\\n\\nVolcano #Bitcoin Bond. https://t.c...</td>\n",
       "      <td>positive</td>\n",
       "      <td>0</td>\n",
       "      <td>2</td>\n",
       "      <td>0</td>\n",
       "      <td>1</td>\n",
       "      <td>True</td>\n",
       "      <td>0</td>\n",
       "      <td>1</td>\n",
       "    </tr>\n",
       "    <tr>\n",
       "      <th>18556</th>\n",
       "      <td>Twitter for iPhone</td>\n",
       "      <td>2009-06-10 11:45:00</td>\n",
       "      <td>Los Angeles, CA</td>\n",
       "      <td>#RokkStar BookMuZicKing@Gmail.com | IG: MuZicK...</td>\n",
       "      <td>100141</td>\n",
       "      <td>True</td>\n",
       "      <td>12/11/2021</td>\n",
       "      <td>2021-11-12 19:08:00</td>\n",
       "      <td>The best #Bitcoin ETF is probably $BITO or $BT...</td>\n",
       "      <td>positive</td>\n",
       "      <td>1</td>\n",
       "      <td>2</td>\n",
       "      <td>0</td>\n",
       "      <td>1</td>\n",
       "      <td>True</td>\n",
       "      <td>1</td>\n",
       "      <td>1</td>\n",
       "    </tr>\n",
       "    <tr>\n",
       "      <th>14373</th>\n",
       "      <td>Twitter Web App</td>\n",
       "      <td>2008-09-26 06:54:00</td>\n",
       "      <td>Atlanta, GA</td>\n",
       "      <td>Launched a couple Call of Duty’s (the Zombies ...</td>\n",
       "      <td>100153</td>\n",
       "      <td>True</td>\n",
       "      <td>20/10/2021</td>\n",
       "      <td>2021-10-20 10:55:00</td>\n",
       "      <td>@cz_binance Historically, it takes 20, 50, 100...</td>\n",
       "      <td>positive</td>\n",
       "      <td>1</td>\n",
       "      <td>2</td>\n",
       "      <td>0</td>\n",
       "      <td>2</td>\n",
       "      <td>True</td>\n",
       "      <td>0</td>\n",
       "      <td>1</td>\n",
       "    </tr>\n",
       "    <tr>\n",
       "      <th>24057</th>\n",
       "      <td>Twitter Web App</td>\n",
       "      <td>2014-04-02 19:34:00</td>\n",
       "      <td>Etats-Unis</td>\n",
       "      <td>BSC Gems Hunter &amp; Promoter 🏆 | DM us for SHILL...</td>\n",
       "      <td>100178</td>\n",
       "      <td>False</td>\n",
       "      <td>16/03/2022</td>\n",
       "      <td>2022-03-16 16:16:00</td>\n",
       "      <td>Someone transferred $86,720,000 in #Bitcoin an...</td>\n",
       "      <td>positive</td>\n",
       "      <td>1</td>\n",
       "      <td>1</td>\n",
       "      <td>0</td>\n",
       "      <td>2</td>\n",
       "      <td>False</td>\n",
       "      <td>1</td>\n",
       "      <td>1</td>\n",
       "    </tr>\n",
       "    <tr>\n",
       "      <th>3120</th>\n",
       "      <td>Twitter Web App</td>\n",
       "      <td>2021-04-06 02:45:00</td>\n",
       "      <td>California, USA</td>\n",
       "      <td>✨\"Everyday is a bank account, and time is our ...</td>\n",
       "      <td>100224</td>\n",
       "      <td>False</td>\n",
       "      <td>19/07/2021</td>\n",
       "      <td>2021-07-19 07:53:00</td>\n",
       "      <td>Some people think Bitcoin is not the future\\n\\...</td>\n",
       "      <td>positive</td>\n",
       "      <td>1</td>\n",
       "      <td>0</td>\n",
       "      <td>0</td>\n",
       "      <td>2</td>\n",
       "      <td>False</td>\n",
       "      <td>0</td>\n",
       "      <td>1</td>\n",
       "    </tr>\n",
       "    <tr>\n",
       "      <th>...</th>\n",
       "      <td>...</td>\n",
       "      <td>...</td>\n",
       "      <td>...</td>\n",
       "      <td>...</td>\n",
       "      <td>...</td>\n",
       "      <td>...</td>\n",
       "      <td>...</td>\n",
       "      <td>...</td>\n",
       "      <td>...</td>\n",
       "      <td>...</td>\n",
       "      <td>...</td>\n",
       "      <td>...</td>\n",
       "      <td>...</td>\n",
       "      <td>...</td>\n",
       "      <td>...</td>\n",
       "      <td>...</td>\n",
       "      <td>...</td>\n",
       "    </tr>\n",
       "    <tr>\n",
       "      <th>1141</th>\n",
       "      <td>SocialFlow</td>\n",
       "      <td>2007-03-20 17:46:00</td>\n",
       "      <td>Around the world</td>\n",
       "      <td>Top and breaking news, pictures and videos fro...</td>\n",
       "      <td>23494917</td>\n",
       "      <td>True</td>\n",
       "      <td>22/06/2021</td>\n",
       "      <td>2021-06-22 11:20:00</td>\n",
       "      <td>#Bitcoin regained some ground, a day after tou...</td>\n",
       "      <td>positive</td>\n",
       "      <td>1</td>\n",
       "      <td>2</td>\n",
       "      <td>2</td>\n",
       "      <td>0</td>\n",
       "      <td>True</td>\n",
       "      <td>0</td>\n",
       "      <td>1</td>\n",
       "    </tr>\n",
       "    <tr>\n",
       "      <th>5568</th>\n",
       "      <td>SocialFlow</td>\n",
       "      <td>2007-03-20 17:46:00</td>\n",
       "      <td>Around the world</td>\n",
       "      <td>Top and breaking news, pictures and videos fro...</td>\n",
       "      <td>23597270</td>\n",
       "      <td>True</td>\n",
       "      <td>23/07/2021</td>\n",
       "      <td>2021-07-23 21:13:00</td>\n",
       "      <td>With typhoon season around the corner for Toky...</td>\n",
       "      <td>positive</td>\n",
       "      <td>1</td>\n",
       "      <td>2</td>\n",
       "      <td>2</td>\n",
       "      <td>0</td>\n",
       "      <td>True</td>\n",
       "      <td>1</td>\n",
       "      <td>1</td>\n",
       "    </tr>\n",
       "    <tr>\n",
       "      <th>5435</th>\n",
       "      <td>Twitter Web App</td>\n",
       "      <td>2007-03-20 17:46:00</td>\n",
       "      <td>Around the world</td>\n",
       "      <td>Top and breaking news, pictures and videos fro...</td>\n",
       "      <td>23597283</td>\n",
       "      <td>True</td>\n",
       "      <td>23/07/2021</td>\n",
       "      <td>2021-07-23 15:34:00</td>\n",
       "      <td>Japanese tennis star Naomi Osaka lights the #O...</td>\n",
       "      <td>positive</td>\n",
       "      <td>1</td>\n",
       "      <td>2</td>\n",
       "      <td>2</td>\n",
       "      <td>2</td>\n",
       "      <td>True</td>\n",
       "      <td>0</td>\n",
       "      <td>1</td>\n",
       "    </tr>\n",
       "    <tr>\n",
       "      <th>19902</th>\n",
       "      <td>SocialFlow</td>\n",
       "      <td>2007-03-20 17:46:00</td>\n",
       "      <td>Around the world</td>\n",
       "      <td>Top and breaking news, pictures and videos fro...</td>\n",
       "      <td>24032114</td>\n",
       "      <td>True</td>\n",
       "      <td>25/11/2021</td>\n",
       "      <td>2021-11-25 14:52:00</td>\n",
       "      <td>El Salvador's President Nayib Bukele took the ...</td>\n",
       "      <td>positive</td>\n",
       "      <td>1</td>\n",
       "      <td>2</td>\n",
       "      <td>2</td>\n",
       "      <td>0</td>\n",
       "      <td>True</td>\n",
       "      <td>1</td>\n",
       "      <td>1</td>\n",
       "    </tr>\n",
       "    <tr>\n",
       "      <th>21025</th>\n",
       "      <td>Twitter Media Studio</td>\n",
       "      <td>2007-03-20 17:46:00</td>\n",
       "      <td>Around the world</td>\n",
       "      <td>Top and breaking news, pictures and videos fro...</td>\n",
       "      <td>24131346</td>\n",
       "      <td>True</td>\n",
       "      <td>30/12/2021</td>\n",
       "      <td>2021-12-30 19:20:00</td>\n",
       "      <td>From the rise of memecoins to #Bitcoin’s reign...</td>\n",
       "      <td>positive</td>\n",
       "      <td>1</td>\n",
       "      <td>2</td>\n",
       "      <td>2</td>\n",
       "      <td>0</td>\n",
       "      <td>True</td>\n",
       "      <td>0</td>\n",
       "      <td>1</td>\n",
       "    </tr>\n",
       "  </tbody>\n",
       "</table>\n",
       "<p>25780 rows × 17 columns</p>\n",
       "</div>"
      ],
      "text/plain": [
       "                     source        user_created     user_location  \\\n",
       "25122    Twitter for iPhone 2013-02-13 19:24:00               NaN   \n",
       "18556    Twitter for iPhone 2009-06-10 11:45:00   Los Angeles, CA   \n",
       "14373       Twitter Web App 2008-09-26 06:54:00       Atlanta, GA   \n",
       "24057       Twitter Web App 2014-04-02 19:34:00        Etats-Unis   \n",
       "3120        Twitter Web App 2021-04-06 02:45:00   California, USA   \n",
       "...                     ...                 ...               ...   \n",
       "1141             SocialFlow 2007-03-20 17:46:00  Around the world   \n",
       "5568             SocialFlow 2007-03-20 17:46:00  Around the world   \n",
       "5435        Twitter Web App 2007-03-20 17:46:00  Around the world   \n",
       "19902            SocialFlow 2007-03-20 17:46:00  Around the world   \n",
       "21025  Twitter Media Studio 2007-03-20 17:46:00  Around the world   \n",
       "\n",
       "                                        user_description  user_followers  \\\n",
       "25122              Ministro de Hacienda/Finance Minister          100107   \n",
       "18556  #RokkStar BookMuZicKing@Gmail.com | IG: MuZicK...          100141   \n",
       "14373  Launched a couple Call of Duty’s (the Zombies ...          100153   \n",
       "24057  BSC Gems Hunter & Promoter 🏆 | DM us for SHILL...          100178   \n",
       "3120   ✨\"Everyday is a bank account, and time is our ...          100224   \n",
       "...                                                  ...             ...   \n",
       "1141   Top and breaking news, pictures and videos fro...        23494917   \n",
       "5568   Top and breaking news, pictures and videos fro...        23597270   \n",
       "5435   Top and breaking news, pictures and videos fro...        23597283   \n",
       "19902  Top and breaking news, pictures and videos fro...        24032114   \n",
       "21025  Top and breaking news, pictures and videos fro...        24131346   \n",
       "\n",
       "       user_verified        date            date_new  \\\n",
       "25122           True  24/03/2022 2022-03-24 21:23:00   \n",
       "18556           True  12/11/2021 2021-11-12 19:08:00   \n",
       "14373           True  20/10/2021 2021-10-20 10:55:00   \n",
       "24057          False  16/03/2022 2022-03-16 16:16:00   \n",
       "3120           False  19/07/2021 2021-07-19 07:53:00   \n",
       "...              ...         ...                 ...   \n",
       "1141            True  22/06/2021 2021-06-22 11:20:00   \n",
       "5568            True  23/07/2021 2021-07-23 21:13:00   \n",
       "5435            True  23/07/2021 2021-07-23 15:34:00   \n",
       "19902           True  25/11/2021 2021-11-25 14:52:00   \n",
       "21025           True  30/12/2021 2021-12-30 19:20:00   \n",
       "\n",
       "                                                   tweet      pred  \\\n",
       "25122  Work 🇸🇻.\\n\\nVolcano #Bitcoin Bond. https://t.c...  positive   \n",
       "18556  The best #Bitcoin ETF is probably $BITO or $BT...  positive   \n",
       "14373  @cz_binance Historically, it takes 20, 50, 100...  positive   \n",
       "24057  Someone transferred $86,720,000 in #Bitcoin an...  positive   \n",
       "3120   Some people think Bitcoin is not the future\\n\\...  positive   \n",
       "...                                                  ...       ...   \n",
       "1141   #Bitcoin regained some ground, a day after tou...  positive   \n",
       "5568   With typhoon season around the corner for Toky...  positive   \n",
       "5435   Japanese tennis star Naomi Osaka lights the #O...  positive   \n",
       "19902  El Salvador's President Nayib Bukele took the ...  positive   \n",
       "21025  From the rise of memecoins to #Bitcoin’s reign...  positive   \n",
       "\n",
       "       location_new_feature  seniority  popularity  source_group  \\\n",
       "25122                     0          2           0             1   \n",
       "18556                     1          2           0             1   \n",
       "14373                     1          2           0             2   \n",
       "24057                     1          1           0             2   \n",
       "3120                      1          0           0             2   \n",
       "...                     ...        ...         ...           ...   \n",
       "1141                      1          2           2             0   \n",
       "5568                      1          2           2             0   \n",
       "5435                      1          2           2             2   \n",
       "19902                     1          2           2             0   \n",
       "21025                     1          2           2             0   \n",
       "\n",
       "       aggregationOfSeniorityWithVerified  label  predBinary  \n",
       "25122                                True      0           1  \n",
       "18556                                True      1           1  \n",
       "14373                                True      0           1  \n",
       "24057                               False      1           1  \n",
       "3120                                False      0           1  \n",
       "...                                   ...    ...         ...  \n",
       "1141                                 True      0           1  \n",
       "5568                                 True      1           1  \n",
       "5435                                 True      0           1  \n",
       "19902                                True      1           1  \n",
       "21025                                True      0           1  \n",
       "\n",
       "[25780 rows x 17 columns]"
      ]
     },
     "execution_count": 26,
     "metadata": {},
     "output_type": "execute_result"
    }
   ],
   "source": [
    "dfTweets"
   ]
  },
  {
   "cell_type": "markdown",
   "metadata": {},
   "source": [
    "Start Model - Decisioning Tree"
   ]
  },
  {
   "cell_type": "code",
   "execution_count": 27,
   "metadata": {},
   "outputs": [],
   "source": [
    "from sklearn import tree\n",
    "from sklearn.model_selection import train_test_split\n",
    "training_data, testing_data = train_test_split(dfTweets[['user_verified' , 'predBinary' , 'location_new_feature' , 'seniority' , 'popularity' , 'aggregationOfSeniorityWithVerified' , 'label']], random_state=0)\n",
    "X_train , y_train=np.array(training_data)[:,[0,1,2,3,4,5]] , np.array(training_data)[:,6]\n",
    "X_test , y_test=np.array(testing_data)[:,[0,1,2,3,4,5]] , np.array(testing_data)[:,6]\n",
    "y_train=y_train.astype('int32')\n",
    "y_test=y_test.astype('int32')\n",
    "\n"
   ]
  },
  {
   "cell_type": "code",
   "execution_count": 28,
   "metadata": {},
   "outputs": [
    {
     "name": "stdout",
     "output_type": "stream",
     "text": [
      "0.5281613653995345\n"
     ]
    }
   ],
   "source": [
    "clf = tree.DecisionTreeClassifier(criterion=\"entropy\", splitter=\"random\")\n",
    "clf = clf.fit(X_train , y_train)\n",
    "predictions=clf.predict(X_test)\n",
    "matches = np.count_nonzero(predictions == y_test)\n",
    "print(matches/len(predictions))"
   ]
  },
  {
   "cell_type": "code",
   "execution_count": 29,
   "metadata": {},
   "outputs": [],
   "source": [
    "#predictions=clf.predict(X_train)\n",
    "#matches = np.count_nonzero(predictions == y_train)\n",
    "#print(matches/len(predictions))"
   ]
  },
  {
   "cell_type": "code",
   "execution_count": 30,
   "metadata": {},
   "outputs": [
    {
     "data": {
      "text/plain": [
       "[Text(0.4025, 0.9375, 'X[3] <= 0.859\\nentropy = 0.998\\nsamples = 19335\\nvalue = [9148, 10187]'),\n",
       " Text(0.18, 0.8125, 'X[2] <= 0.935\\nentropy = 0.996\\nsamples = 6486\\nvalue = [3004, 3482]'),\n",
       " Text(0.092, 0.6875, 'X[1] <= 0.602\\nentropy = 0.994\\nsamples = 3649\\nvalue = [1665, 1984]'),\n",
       " Text(0.052, 0.5625, 'X[4] <= 1.712\\nentropy = 0.989\\nsamples = 1392\\nvalue = [611, 781]'),\n",
       " Text(0.032, 0.4375, 'X[4] <= 0.6\\nentropy = 0.989\\nsamples = 1378\\nvalue = [604, 774]'),\n",
       " Text(0.016, 0.3125, 'X[5] <= 0.053\\nentropy = 0.987\\nsamples = 1263\\nvalue = [548, 715]'),\n",
       " Text(0.008, 0.1875, 'entropy = 0.987\\nsamples = 1262\\nvalue = [547, 715]'),\n",
       " Text(0.024, 0.1875, 'entropy = 0.0\\nsamples = 1\\nvalue = [1, 0]'),\n",
       " Text(0.048, 0.3125, 'X[0] <= 0.142\\nentropy = 1.0\\nsamples = 115\\nvalue = [56, 59]'),\n",
       " Text(0.04, 0.1875, 'entropy = 0.999\\nsamples = 108\\nvalue = [52, 56]'),\n",
       " Text(0.056, 0.1875, 'entropy = 0.985\\nsamples = 7\\nvalue = [4, 3]'),\n",
       " Text(0.072, 0.4375, 'X[5] <= 0.638\\nentropy = 1.0\\nsamples = 14\\nvalue = [7, 7]'),\n",
       " Text(0.064, 0.3125, 'entropy = 0.946\\nsamples = 11\\nvalue = [7, 4]'),\n",
       " Text(0.08, 0.3125, 'entropy = 0.0\\nsamples = 3\\nvalue = [0, 3]'),\n",
       " Text(0.132, 0.5625, 'X[4] <= 1.902\\nentropy = 0.997\\nsamples = 2257\\nvalue = [1054, 1203]'),\n",
       " Text(0.112, 0.4375, 'X[4] <= 0.067\\nentropy = 0.997\\nsamples = 2098\\nvalue = [987, 1111]'),\n",
       " Text(0.096, 0.3125, 'X[0] <= 0.318\\nentropy = 0.999\\nsamples = 1653\\nvalue = [798, 855]'),\n",
       " Text(0.088, 0.1875, 'entropy = 0.999\\nsamples = 1630\\nvalue = [787, 843]'),\n",
       " Text(0.104, 0.1875, 'entropy = 0.999\\nsamples = 23\\nvalue = [11, 12]'),\n",
       " Text(0.128, 0.3125, 'X[5] <= 0.506\\nentropy = 0.984\\nsamples = 445\\nvalue = [189, 256]'),\n",
       " Text(0.12, 0.1875, 'entropy = 0.982\\nsamples = 397\\nvalue = [167, 230]'),\n",
       " Text(0.136, 0.1875, 'entropy = 0.995\\nsamples = 48\\nvalue = [22, 26]'),\n",
       " Text(0.152, 0.4375, 'X[0] <= 0.864\\nentropy = 0.982\\nsamples = 159\\nvalue = [67, 92]'),\n",
       " Text(0.144, 0.3125, 'entropy = 0.979\\nsamples = 147\\nvalue = [61, 86]'),\n",
       " Text(0.16, 0.3125, 'entropy = 1.0\\nsamples = 12\\nvalue = [6, 6]'),\n",
       " Text(0.268, 0.6875, 'X[4] <= 1.628\\nentropy = 0.998\\nsamples = 2837\\nvalue = [1339, 1498]'),\n",
       " Text(0.224, 0.5625, 'X[1] <= 0.265\\nentropy = 0.995\\nsamples = 1542\\nvalue = [706, 836]'),\n",
       " Text(0.192, 0.4375, 'X[4] <= 0.856\\nentropy = 0.999\\nsamples = 430\\nvalue = [209, 221]'),\n",
       " Text(0.176, 0.3125, 'X[0] <= 0.674\\nentropy = 1.0\\nsamples = 269\\nvalue = [135, 134]'),\n",
       " Text(0.168, 0.1875, 'entropy = 1.0\\nsamples = 265\\nvalue = [134, 131]'),\n",
       " Text(0.184, 0.1875, 'entropy = 0.811\\nsamples = 4\\nvalue = [1, 3]'),\n",
       " Text(0.208, 0.3125, 'X[0] <= 0.103\\nentropy = 0.995\\nsamples = 161\\nvalue = [74, 87]'),\n",
       " Text(0.2, 0.1875, 'entropy = 0.995\\nsamples = 152\\nvalue = [70, 82]'),\n",
       " Text(0.216, 0.1875, 'entropy = 0.991\\nsamples = 9\\nvalue = [4, 5]'),\n",
       " Text(0.256, 0.4375, 'X[4] <= 0.808\\nentropy = 0.992\\nsamples = 1112\\nvalue = [497, 615]'),\n",
       " Text(0.24, 0.3125, 'X[5] <= 0.87\\nentropy = 0.994\\nsamples = 577\\nvalue = [263, 314]'),\n",
       " Text(0.232, 0.1875, 'entropy = 0.996\\nsamples = 541\\nvalue = [250, 291]'),\n",
       " Text(0.248, 0.1875, 'entropy = 0.944\\nsamples = 36\\nvalue = [13, 23]'),\n",
       " Text(0.272, 0.3125, 'X[0] <= 0.826\\nentropy = 0.989\\nsamples = 535\\nvalue = [234, 301]'),\n",
       " Text(0.264, 0.1875, 'entropy = 0.987\\nsamples = 447\\nvalue = [193, 254]'),\n",
       " Text(0.28, 0.1875, 'entropy = 0.997\\nsamples = 88\\nvalue = [41, 47]'),\n",
       " Text(0.312, 0.5625, 'X[5] <= 0.39\\nentropy = 1.0\\nsamples = 1295\\nvalue = [633, 662]'),\n",
       " Text(0.296, 0.4375, 'X[1] <= 0.677\\nentropy = 1.0\\nsamples = 1105\\nvalue = [546, 559]'),\n",
       " Text(0.288, 0.3125, 'entropy = 0.999\\nsamples = 96\\nvalue = [50, 46]'),\n",
       " Text(0.304, 0.3125, 'entropy = 1.0\\nsamples = 1009\\nvalue = [496, 513]'),\n",
       " Text(0.328, 0.4375, 'X[1] <= 0.67\\nentropy = 0.995\\nsamples = 190\\nvalue = [87, 103]'),\n",
       " Text(0.32, 0.3125, 'entropy = 0.996\\nsamples = 28\\nvalue = [15, 13]'),\n",
       " Text(0.336, 0.3125, 'entropy = 0.991\\nsamples = 162\\nvalue = [72, 90]'),\n",
       " Text(0.625, 0.8125, 'X[1] <= 0.678\\nentropy = 0.999\\nsamples = 12849\\nvalue = [6144, 6705]'),\n",
       " Text(0.47, 0.6875, 'X[3] <= 1.421\\nentropy = 0.997\\nsamples = 2094\\nvalue = [980, 1114]'),\n",
       " Text(0.412, 0.5625, 'X[0] <= 0.716\\nentropy = 0.998\\nsamples = 1075\\nvalue = [510, 565]'),\n",
       " Text(0.376, 0.4375, 'X[2] <= 0.514\\nentropy = 0.996\\nsamples = 746\\nvalue = [347, 399]'),\n",
       " Text(0.352, 0.3125, 'X[4] <= 0.831\\nentropy = 1.0\\nsamples = 419\\nvalue = [204, 215]'),\n",
       " Text(0.344, 0.1875, 'entropy = 0.993\\nsamples = 80\\nvalue = [36, 44]'),\n",
       " Text(0.36, 0.1875, 'X[4] <= 1.416\\nentropy = 1.0\\nsamples = 339\\nvalue = [168, 171]'),\n",
       " Text(0.352, 0.0625, 'entropy = 1.0\\nsamples = 297\\nvalue = [150, 147]'),\n",
       " Text(0.368, 0.0625, 'entropy = 0.985\\nsamples = 42\\nvalue = [18, 24]'),\n",
       " Text(0.4, 0.3125, 'X[4] <= 1.037\\nentropy = 0.989\\nsamples = 327\\nvalue = [143, 184]'),\n",
       " Text(0.392, 0.1875, 'X[4] <= 0.301\\nentropy = 0.985\\nsamples = 269\\nvalue = [115, 154]'),\n",
       " Text(0.384, 0.0625, 'entropy = 0.992\\nsamples = 139\\nvalue = [62, 77]'),\n",
       " Text(0.4, 0.0625, 'entropy = 0.975\\nsamples = 130\\nvalue = [53, 77]'),\n",
       " Text(0.408, 0.1875, 'entropy = 0.999\\nsamples = 58\\nvalue = [28, 30]'),\n",
       " Text(0.448, 0.4375, 'X[2] <= 0.254\\nentropy = 1.0\\nsamples = 329\\nvalue = [163, 166]'),\n",
       " Text(0.432, 0.3125, 'X[4] <= 0.24\\nentropy = 0.947\\nsamples = 63\\nvalue = [23, 40]'),\n",
       " Text(0.424, 0.1875, 'entropy = 0.996\\nsamples = 13\\nvalue = [6, 7]'),\n",
       " Text(0.44, 0.1875, 'X[4] <= 1.15\\nentropy = 0.925\\nsamples = 50\\nvalue = [17, 33]'),\n",
       " Text(0.432, 0.0625, 'entropy = 0.954\\nsamples = 16\\nvalue = [6, 10]'),\n",
       " Text(0.448, 0.0625, 'entropy = 0.908\\nsamples = 34\\nvalue = [11, 23]'),\n",
       " Text(0.464, 0.3125, 'X[4] <= 0.028\\nentropy = 0.998\\nsamples = 266\\nvalue = [140, 126]'),\n",
       " Text(0.456, 0.1875, 'entropy = 0.986\\nsamples = 65\\nvalue = [37, 28]'),\n",
       " Text(0.472, 0.1875, 'X[4] <= 1.86\\nentropy = 1.0\\nsamples = 201\\nvalue = [103, 98]'),\n",
       " Text(0.464, 0.0625, 'entropy = 0.985\\nsamples = 56\\nvalue = [24, 32]'),\n",
       " Text(0.48, 0.0625, 'entropy = 0.994\\nsamples = 145\\nvalue = [79, 66]'),\n",
       " Text(0.528, 0.5625, 'X[4] <= 0.274\\nentropy = 0.996\\nsamples = 1019\\nvalue = [470, 549]'),\n",
       " Text(0.488, 0.4375, 'X[2] <= 0.485\\nentropy = 0.981\\nsamples = 136\\nvalue = [57, 79]'),\n",
       " Text(0.48, 0.3125, 'entropy = 0.887\\nsamples = 23\\nvalue = [7, 16]'),\n",
       " Text(0.496, 0.3125, 'X[0] <= 0.701\\nentropy = 0.99\\nsamples = 113\\nvalue = [50, 63]'),\n",
       " Text(0.488, 0.1875, 'entropy = 0.994\\nsamples = 64\\nvalue = [29, 35]'),\n",
       " Text(0.504, 0.1875, 'entropy = 0.985\\nsamples = 49\\nvalue = [21, 28]'),\n",
       " Text(0.568, 0.4375, 'X[4] <= 1.798\\nentropy = 0.997\\nsamples = 883\\nvalue = [413, 470]'),\n",
       " Text(0.536, 0.3125, 'X[0] <= 0.83\\nentropy = 1.0\\nsamples = 360\\nvalue = [178, 182]'),\n",
       " Text(0.52, 0.1875, 'X[2] <= 0.436\\nentropy = 1.0\\nsamples = 215\\nvalue = [105, 110]'),\n",
       " Text(0.512, 0.0625, 'entropy = 0.999\\nsamples = 29\\nvalue = [14, 15]'),\n",
       " Text(0.528, 0.0625, 'entropy = 1.0\\nsamples = 186\\nvalue = [91, 95]'),\n",
       " Text(0.552, 0.1875, 'X[2] <= 0.897\\nentropy = 1.0\\nsamples = 145\\nvalue = [73, 72]'),\n",
       " Text(0.544, 0.0625, 'entropy = 0.991\\nsamples = 9\\nvalue = [5, 4]'),\n",
       " Text(0.56, 0.0625, 'entropy = 1.0\\nsamples = 136\\nvalue = [68, 68]'),\n",
       " Text(0.6, 0.3125, 'X[0] <= 0.534\\nentropy = 0.993\\nsamples = 523\\nvalue = [235, 288]'),\n",
       " Text(0.584, 0.1875, 'X[2] <= 0.476\\nentropy = 0.999\\nsamples = 93\\nvalue = [48, 45]'),\n",
       " Text(0.576, 0.0625, 'entropy = 0.994\\nsamples = 33\\nvalue = [18, 15]'),\n",
       " Text(0.592, 0.0625, 'entropy = 1.0\\nsamples = 60\\nvalue = [30, 30]'),\n",
       " Text(0.616, 0.1875, 'X[2] <= 0.142\\nentropy = 0.988\\nsamples = 430\\nvalue = [187, 243]'),\n",
       " Text(0.608, 0.0625, 'entropy = 0.988\\nsamples = 23\\nvalue = [10, 13]'),\n",
       " Text(0.624, 0.0625, 'entropy = 0.988\\nsamples = 407\\nvalue = [177, 230]'),\n",
       " Text(0.78, 0.6875, 'X[4] <= 0.722\\nentropy = 0.999\\nsamples = 10755\\nvalue = [5164, 5591]'),\n",
       " Text(0.688, 0.5625, 'X[2] <= 0.081\\nentropy = 1.0\\nsamples = 2269\\nvalue = [1122, 1147]'),\n",
       " Text(0.656, 0.4375, 'X[0] <= 0.767\\nentropy = 0.999\\nsamples = 402\\nvalue = [193, 209]'),\n",
       " Text(0.64, 0.3125, 'X[3] <= 1.698\\nentropy = 1.0\\nsamples = 321\\nvalue = [159, 162]'),\n",
       " Text(0.632, 0.1875, 'entropy = 1.0\\nsamples = 243\\nvalue = [120, 123]'),\n",
       " Text(0.648, 0.1875, 'entropy = 1.0\\nsamples = 78\\nvalue = [39, 39]'),\n",
       " Text(0.672, 0.3125, 'X[3] <= 1.684\\nentropy = 0.981\\nsamples = 81\\nvalue = [34, 47]'),\n",
       " Text(0.664, 0.1875, 'entropy = 0.954\\nsamples = 64\\nvalue = [24, 40]'),\n",
       " Text(0.68, 0.1875, 'entropy = 0.977\\nsamples = 17\\nvalue = [10, 7]'),\n",
       " Text(0.72, 0.4375, 'X[3] <= 1.611\\nentropy = 1.0\\nsamples = 1867\\nvalue = [929, 938]'),\n",
       " Text(0.704, 0.3125, 'X[5] <= 0.545\\nentropy = 1.0\\nsamples = 1032\\nvalue = [513, 519]'),\n",
       " Text(0.696, 0.1875, 'entropy = 1.0\\nsamples = 671\\nvalue = [329, 342]'),\n",
       " Text(0.712, 0.1875, 'entropy = 1.0\\nsamples = 361\\nvalue = [184, 177]'),\n",
       " Text(0.736, 0.3125, 'X[0] <= 0.146\\nentropy = 1.0\\nsamples = 835\\nvalue = [416, 419]'),\n",
       " Text(0.728, 0.1875, 'entropy = 1.0\\nsamples = 531\\nvalue = [269, 262]'),\n",
       " Text(0.744, 0.1875, 'entropy = 0.999\\nsamples = 304\\nvalue = [147, 157]'),\n",
       " Text(0.872, 0.5625, 'X[2] <= 0.694\\nentropy = 0.998\\nsamples = 8486\\nvalue = [4042, 4444]'),\n",
       " Text(0.808, 0.4375, 'X[3] <= 1.541\\nentropy = 0.998\\nsamples = 2276\\nvalue = [1074, 1202]'),\n",
       " Text(0.776, 0.3125, 'X[5] <= 0.86\\nentropy = 0.997\\nsamples = 1760\\nvalue = [824, 936]'),\n",
       " Text(0.76, 0.1875, 'X[4] <= 1.8\\nentropy = 0.998\\nsamples = 1349\\nvalue = [641, 708]'),\n",
       " Text(0.752, 0.0625, 'entropy = 0.998\\nsamples = 1148\\nvalue = [546, 602]'),\n",
       " Text(0.768, 0.0625, 'entropy = 0.998\\nsamples = 201\\nvalue = [95, 106]'),\n",
       " Text(0.792, 0.1875, 'X[4] <= 1.699\\nentropy = 0.991\\nsamples = 411\\nvalue = [183, 228]'),\n",
       " Text(0.784, 0.0625, 'entropy = 0.946\\nsamples = 99\\nvalue = [36, 63]'),\n",
       " Text(0.8, 0.0625, 'entropy = 0.998\\nsamples = 312\\nvalue = [147, 165]'),\n",
       " Text(0.84, 0.3125, 'X[5] <= 0.329\\nentropy = 0.999\\nsamples = 516\\nvalue = [250, 266]'),\n",
       " Text(0.824, 0.1875, 'X[4] <= 1.056\\nentropy = 0.998\\nsamples = 371\\nvalue = [177, 194]'),\n",
       " Text(0.816, 0.0625, 'entropy = 1.0\\nsamples = 191\\nvalue = [96, 95]'),\n",
       " Text(0.832, 0.0625, 'entropy = 0.993\\nsamples = 180\\nvalue = [81, 99]'),\n",
       " Text(0.856, 0.1875, 'X[4] <= 1.5\\nentropy = 1.0\\nsamples = 145\\nvalue = [73, 72]'),\n",
       " Text(0.848, 0.0625, 'entropy = 0.992\\nsamples = 49\\nvalue = [22, 27]'),\n",
       " Text(0.864, 0.0625, 'entropy = 0.997\\nsamples = 96\\nvalue = [51, 45]'),\n",
       " Text(0.936, 0.4375, 'X[3] <= 1.725\\nentropy = 0.999\\nsamples = 6210\\nvalue = [2968, 3242]'),\n",
       " Text(0.904, 0.3125, 'X[4] <= 1.984\\nentropy = 0.999\\nsamples = 2257\\nvalue = [1092, 1165]'),\n",
       " Text(0.888, 0.1875, 'X[5] <= 0.245\\nentropy = 0.998\\nsamples = 1107\\nvalue = [526, 581]'),\n",
       " Text(0.88, 0.0625, 'entropy = 0.999\\nsamples = 729\\nvalue = [350, 379]'),\n",
       " Text(0.896, 0.0625, 'entropy = 0.997\\nsamples = 378\\nvalue = [176, 202]'),\n",
       " Text(0.92, 0.1875, 'X[5] <= 0.797\\nentropy = 1.0\\nsamples = 1150\\nvalue = [566, 584]'),\n",
       " Text(0.912, 0.0625, 'entropy = 1.0\\nsamples = 435\\nvalue = [216, 219]'),\n",
       " Text(0.928, 0.0625, 'entropy = 1.0\\nsamples = 715\\nvalue = [350, 365]'),\n",
       " Text(0.968, 0.3125, 'X[4] <= 1.531\\nentropy = 0.998\\nsamples = 3953\\nvalue = [1876, 2077]'),\n",
       " Text(0.952, 0.1875, 'X[5] <= 0.156\\nentropy = 0.999\\nsamples = 1729\\nvalue = [837, 892]'),\n",
       " Text(0.944, 0.0625, 'entropy = 0.998\\nsamples = 1032\\nvalue = [491, 541]'),\n",
       " Text(0.96, 0.0625, 'entropy = 1.0\\nsamples = 697\\nvalue = [346, 351]'),\n",
       " Text(0.984, 0.1875, 'X[0] <= 0.755\\nentropy = 0.997\\nsamples = 2224\\nvalue = [1039, 1185]'),\n",
       " Text(0.976, 0.0625, 'entropy = 0.992\\nsamples = 249\\nvalue = [111, 138]'),\n",
       " Text(0.992, 0.0625, 'entropy = 0.997\\nsamples = 1975\\nvalue = [928, 1047]')]"
      ]
     },
     "execution_count": 30,
     "metadata": {},
     "output_type": "execute_result"
    },
    {
     "data": {
      "image/png": "[encoded data removed]",
      "text/plain": [
       "<Figure size 432x288 with 1 Axes>"
      ]
     },
     "metadata": {
      "needs_background": "light"
     },
     "output_type": "display_data"
    }
   ],
   "source": [
    "tree.plot_tree(clf)"
   ]
  },
  {
   "cell_type": "code",
   "execution_count": 31,
   "metadata": {},
   "outputs": [
    {
     "data": {
      "image/png": "[encoded data removed]",
      "text/plain": [
       "<Figure size 432x288 with 2 Axes>"
      ]
     },
     "metadata": {
      "needs_background": "light"
     },
     "output_type": "display_data"
    }
   ],
   "source": [
    "from sklearn import metrics\n",
    "import matplotlib.pyplot as plt\n",
    "confusion_matrix = metrics.confusion_matrix(y_test, predictions)\n",
    "cm_display = metrics.ConfusionMatrixDisplay(confusion_matrix = confusion_matrix, display_labels = [False, True])\n",
    "cm_display.plot()\n",
    "plt.show()"
   ]
  },
  {
   "cell_type": "markdown",
   "metadata": {},
   "source": [
    "Discrete Naive Bayes "
   ]
  },
  {
   "cell_type": "code",
   "execution_count": 32,
   "metadata": {},
   "outputs": [
    {
     "name": "stdout",
     "output_type": "stream",
     "text": [
      "0.5244375484871994\n"
     ]
    }
   ],
   "source": [
    "from sklearn.naive_bayes import MultinomialNB\n",
    "clf = MultinomialNB()\n",
    "clf.fit(X_train, y_train)\n",
    "predictions=clf.predict(X_test)\n",
    "matches = np.count_nonzero(predictions == y_test)\n",
    "print(matches/len(predictions))"
   ]
  }
 ],
 "metadata": {
  "interpreter": {
   "hash": "b0fa6594d8f4cbf19f97940f81e996739fb7646882a419484c72d19e05852a7e"
  },
  "kernelspec": {
   "display_name": "Python 3 (ipykernel)",
   "language": "python",
   "name": "python3"
  },
  "language_info": {
   "codemirror_mode": {
    "name": "ipython",
    "version": 3
   },
   "file_extension": ".py",
   "mimetype": "text/x-python",
   "name": "python",
   "nbconvert_exporter": "python",
   "pygments_lexer": "ipython3",
   "version": "3.9.12"
  }
 },
 "nbformat": 4,
 "nbformat_minor": 2
}
