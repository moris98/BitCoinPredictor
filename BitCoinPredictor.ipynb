{
 "cells": [
  {
   "cell_type": "code",
   "execution_count": 30,
   "metadata": {},
   "outputs": [],
   "source": [
    "import numpy as np # used for scientific computing\n",
    "import pandas as pd # used for data analysis and manipulation\n",
    "import matplotlib.pyplot as plt # used for3 visualization and plotting"
   ]
  },
  {
   "cell_type": "code",
   "execution_count": 2,
   "metadata": {},
   "outputs": [],
   "source": [
    "dfTweets= pd.read_csv('CleanData_100k_with_prediction.csv')\n",
    "dfFare= pd.read_csv('Binance_BTCUSDT_1h.csv')"
   ]
  },
  {
   "cell_type": "code",
   "execution_count": 3,
   "metadata": {},
   "outputs": [],
   "source": [
    "del dfTweets['Unnamed: 0']\n",
    "del dfTweets['Unnamed: 11']\n",
    "del dfTweets['Unnamed: 12']\n",
    "del dfTweets['Unnamed: 13']\n",
    "\n"
   ]
  },
  {
   "cell_type": "markdown",
   "metadata": {},
   "source": [
    "detecting NA"
   ]
  },
  {
   "cell_type": "code",
   "execution_count": 4,
   "metadata": {},
   "outputs": [],
   "source": [
    "naCounter=[(dfTweets[i].isna().sum(), i) for i in dfTweets.columns]\n",
    "# print(naCounter)"
   ]
  },
  {
   "cell_type": "markdown",
   "metadata": {},
   "source": [
    "new feature with 1 if location exists and 0 if not"
   ]
  },
  {
   "cell_type": "code",
   "execution_count": 5,
   "metadata": {},
   "outputs": [],
   "source": [
    "user_loaction_before_preprocess=dfTweets['user_location']\n",
    "user_loaction_after_preprocess=[1 if type(value)!=float else 0 for value in user_loaction_before_preprocess]\n",
    "dfTweets['location_new_feature']=user_loaction_after_preprocess"
   ]
  },
  {
   "cell_type": "markdown",
   "metadata": {},
   "source": [
    "convert features of type time in string to timestamp"
   ]
  },
  {
   "cell_type": "code",
   "execution_count": 6,
   "metadata": {},
   "outputs": [],
   "source": [
    "from datetime import datetime\n",
    "from datetime import timezone\n",
    "def strToTimeStampConvertor(i_timeStr):\n",
    "    return datetime.strptime(i_timeStr, '%d/%m/%Y %H:%M')"
   ]
  },
  {
   "cell_type": "code",
   "execution_count": 7,
   "metadata": {},
   "outputs": [],
   "source": [
    "dfTweets.user_created = dfTweets.user_created.apply(strToTimeStampConvertor)\n",
    "dfTweets.date_new = dfTweets.date_new.apply(strToTimeStampConvertor)"
   ]
  },
  {
   "cell_type": "markdown",
   "metadata": {},
   "source": [
    "make new feature with seniority (number of days from signup to tweet) - then deivide the goup into three bins of seniority"
   ]
  },
  {
   "cell_type": "code",
   "execution_count": 8,
   "metadata": {},
   "outputs": [],
   "source": [
    "user_created_date=np.array(dfTweets['user_created'])\n",
    "user_tweet_date=np.array(dfTweets['date_new'])\n",
    "dfTweets['seniority']=user_tweet_date-user_created_date\n",
    "dfTweets=dfTweets.sort_values(by=['seniority'])\n",
    "first_max_threshold_seniority=np.array(dfTweets.seniority)[len(dfTweets.seniority)//3]\n",
    "second_max_threshold_seniority=np.array(dfTweets.seniority)[(2*len(dfTweets.seniority))//3]"
   ]
  },
  {
   "cell_type": "code",
   "execution_count": 9,
   "metadata": {},
   "outputs": [],
   "source": [
    "def mapSeniority(seniorityInDays):\n",
    "    if(seniorityInDays)<=first_max_threshold_seniority:\n",
    "        return 0\n",
    "    if(seniorityInDays)<=second_max_threshold_seniority:\n",
    "        return 1    \n",
    "    else :return 2    "
   ]
  },
  {
   "cell_type": "code",
   "execution_count": 10,
   "metadata": {},
   "outputs": [],
   "source": [
    "dfTweets.seniority=dfTweets.seniority.apply(mapSeniority)"
   ]
  },
  {
   "cell_type": "markdown",
   "metadata": {},
   "source": [
    "new feature that divides the data by popularity"
   ]
  },
  {
   "cell_type": "code",
   "execution_count": 11,
   "metadata": {},
   "outputs": [],
   "source": [
    "dfTweets=dfTweets.sort_values(by=['user_followers'])\n",
    "first_max_threshold=np.array(dfTweets.user_followers)[len(dfTweets.user_followers)//3]\n",
    "second_max_threshold=np.array(dfTweets.user_followers)[(2*len(dfTweets.user_followers))//3]"
   ]
  },
  {
   "cell_type": "code",
   "execution_count": 12,
   "metadata": {},
   "outputs": [],
   "source": [
    "def mapPopularity(numFollowers):\n",
    "    if(numFollowers)<=first_max_threshold:\n",
    "        return 0\n",
    "    if(numFollowers)<=second_max_threshold:\n",
    "        return 1    \n",
    "    else :return 2    "
   ]
  },
  {
   "cell_type": "code",
   "execution_count": 13,
   "metadata": {},
   "outputs": [],
   "source": [
    "dfTweets['popularity']=dfTweets.user_followers\n",
    "dfTweets['popularity']=dfTweets.popularity.apply(mapPopularity)"
   ]
  },
  {
   "cell_type": "markdown",
   "metadata": {},
   "source": [
    "grouping by source feature"
   ]
  },
  {
   "cell_type": "code",
   "execution_count": 14,
   "metadata": {},
   "outputs": [],
   "source": [
    "unique,counts=np.unique(np.array(dfTweets['source']),return_counts=True)"
   ]
  },
  {
   "cell_type": "code",
   "execution_count": 15,
   "metadata": {},
   "outputs": [],
   "source": [
    "# for i in range(len(unique)):\n",
    "#     print(\"{} {}\".format(unique[i],counts[i]))  "
   ]
  },
  {
   "cell_type": "code",
   "execution_count": 16,
   "metadata": {},
   "outputs": [],
   "source": [
    "def groupBySource(instanceSource):\n",
    "    if(instanceSource=='Twitter Web App'):#most popular\n",
    "        return 2\n",
    "    if(instanceSource=='Twitter for iPhone'):#second most popular\n",
    "        return 1\n",
    "    else :#others\n",
    "        return 0 \n",
    "dfTweets[\"source_group\"]=dfTweets.source\n",
    "dfTweets.source_group=dfTweets.source_group.apply(groupBySource)               "
   ]
  },
  {
   "cell_type": "markdown",
   "metadata": {},
   "source": [
    "new feature that aggregates the seniority with the verified"
   ]
  },
  {
   "cell_type": "code",
   "execution_count": 17,
   "metadata": {},
   "outputs": [],
   "source": [
    "aggregationOfSeniorityWithVerified = dfTweets.user_verified\n",
    "for i,a in enumerate(aggregationOfSeniorityWithVerified):\n",
    "    if (a and (np.array(dfTweets.seniority)[i]==1 or np.array(dfTweets.seniority)[i]==2)):\n",
    "        a=1\n",
    "    else:\n",
    "        a=0    \n",
    "dfTweets[\"aggregationOfSeniorityWithVerified\"]=aggregationOfSeniorityWithVerified    "
   ]
  },
  {
   "cell_type": "markdown",
   "metadata": {},
   "source": [
    "putting the label if the bitcoin value went up or down in the hour following the tweet"
   ]
  },
  {
   "cell_type": "code",
   "execution_count": 18,
   "metadata": {},
   "outputs": [],
   "source": [
    "dfFare.date=dfFare.date.apply(strToTimeStampConvertor)"
   ]
  },
  {
   "cell_type": "code",
   "execution_count": 19,
   "metadata": {},
   "outputs": [],
   "source": [
    "from datetime import datetime, timedelta\n",
    "def hour_rounder(timeStamp):\n",
    "    return(timeStamp.replace(second=0, minute=0, hour=timeStamp.hour)\n",
    "               +timedelta(hours=1))\n",
    "         "
   ]
  },
  {
   "cell_type": "code",
   "execution_count": 20,
   "metadata": {},
   "outputs": [],
   "source": [
    "def labelTheData(timeStamp):\n",
    "    roundedUpTimeStamp=hour_rounder(timeStamp)\n",
    "    return 1 if np.array(dfFare[dfFare.date==roundedUpTimeStamp]['up/down'])[0]=='up' else 0\n"
   ]
  },
  {
   "cell_type": "code",
   "execution_count": 21,
   "metadata": {},
   "outputs": [],
   "source": [
    "dfTweets[\"label\"]=dfTweets.date_new\n",
    "dfTweets[\"label\"]=dfTweets.label.apply(labelTheData)"
   ]
  },
  {
   "cell_type": "markdown",
   "metadata": {},
   "source": [
    "tweet positive/negative cleaning"
   ]
  },
  {
   "cell_type": "code",
   "execution_count": 22,
   "metadata": {},
   "outputs": [],
   "source": [
    "dfTweets.pred=dfTweets.pred.apply(lambda x : x.split(\"'\")[1])"
   ]
  },
  {
   "cell_type": "code",
   "execution_count": 23,
   "metadata": {},
   "outputs": [],
   "source": [
    "def convertPositiveTo1NegativeTo0(sentiment):\n",
    "    return 1 if sentiment=='positive' else 0"
   ]
  },
  {
   "cell_type": "code",
   "execution_count": 24,
   "metadata": {},
   "outputs": [],
   "source": [
    "dfTweets['predBinary']=dfTweets.pred.apply(convertPositiveTo1NegativeTo0)"
   ]
  },
  {
   "cell_type": "markdown",
   "metadata": {},
   "source": [
    "anterior counting"
   ]
  },
  {
   "cell_type": "code",
   "execution_count": 25,
   "metadata": {},
   "outputs": [
    {
     "name": "stdout",
     "output_type": "stream",
     "text": [
      "20436\n",
      "5344\n"
     ]
    }
   ],
   "source": [
    "print(len(dfTweets[dfTweets.predBinary==1]))\n",
    "print(len(dfTweets[dfTweets.predBinary==0]))"
   ]
  },
  {
   "cell_type": "code",
   "execution_count": 38,
   "metadata": {},
   "outputs": [
    {
     "data": {
      "text/html": [
       "<div>\n",
       "<style scoped>\n",
       "    .dataframe tbody tr th:only-of-type {\n",
       "        vertical-align: middle;\n",
       "    }\n",
       "\n",
       "    .dataframe tbody tr th {\n",
       "        vertical-align: top;\n",
       "    }\n",
       "\n",
       "    .dataframe thead th {\n",
       "        text-align: right;\n",
       "    }\n",
       "</style>\n",
       "<table border=\"1\" class=\"dataframe\">\n",
       "  <thead>\n",
       "    <tr style=\"text-align: right;\">\n",
       "      <th></th>\n",
       "      <th>source</th>\n",
       "      <th>user_created</th>\n",
       "      <th>user_location</th>\n",
       "      <th>user_description</th>\n",
       "      <th>user_followers</th>\n",
       "      <th>user_verified</th>\n",
       "      <th>date</th>\n",
       "      <th>date_new</th>\n",
       "      <th>tweet</th>\n",
       "      <th>pred</th>\n",
       "      <th>location_new_feature</th>\n",
       "      <th>seniority</th>\n",
       "      <th>popularity</th>\n",
       "      <th>source_group</th>\n",
       "      <th>aggregationOfSeniorityWithVerified</th>\n",
       "      <th>label</th>\n",
       "      <th>predBinary</th>\n",
       "    </tr>\n",
       "  </thead>\n",
       "  <tbody>\n",
       "    <tr>\n",
       "      <th>25122</th>\n",
       "      <td>Twitter for iPhone</td>\n",
       "      <td>2013-02-13 19:24:00</td>\n",
       "      <td>NaN</td>\n",
       "      <td>Ministro de Hacienda/Finance Minister</td>\n",
       "      <td>100107</td>\n",
       "      <td>True</td>\n",
       "      <td>24/03/2022</td>\n",
       "      <td>2022-03-24 21:23:00</td>\n",
       "      <td>Work 🇸🇻.\\n\\nVolcano #Bitcoin Bond. https://t.c...</td>\n",
       "      <td>positive</td>\n",
       "      <td>0</td>\n",
       "      <td>2</td>\n",
       "      <td>0</td>\n",
       "      <td>1</td>\n",
       "      <td>True</td>\n",
       "      <td>0</td>\n",
       "      <td>1</td>\n",
       "    </tr>\n",
       "    <tr>\n",
       "      <th>18556</th>\n",
       "      <td>Twitter for iPhone</td>\n",
       "      <td>2009-06-10 11:45:00</td>\n",
       "      <td>Los Angeles, CA</td>\n",
       "      <td>#RokkStar BookMuZicKing@Gmail.com | IG: MuZicK...</td>\n",
       "      <td>100141</td>\n",
       "      <td>True</td>\n",
       "      <td>12/11/2021</td>\n",
       "      <td>2021-11-12 19:08:00</td>\n",
       "      <td>The best #Bitcoin ETF is probably $BITO or $BT...</td>\n",
       "      <td>positive</td>\n",
       "      <td>1</td>\n",
       "      <td>2</td>\n",
       "      <td>0</td>\n",
       "      <td>1</td>\n",
       "      <td>True</td>\n",
       "      <td>1</td>\n",
       "      <td>1</td>\n",
       "    </tr>\n",
       "    <tr>\n",
       "      <th>14373</th>\n",
       "      <td>Twitter Web App</td>\n",
       "      <td>2008-09-26 06:54:00</td>\n",
       "      <td>Atlanta, GA</td>\n",
       "      <td>Launched a couple Call of Duty’s (the Zombies ...</td>\n",
       "      <td>100153</td>\n",
       "      <td>True</td>\n",
       "      <td>20/10/2021</td>\n",
       "      <td>2021-10-20 10:55:00</td>\n",
       "      <td>@cz_binance Historically, it takes 20, 50, 100...</td>\n",
       "      <td>positive</td>\n",
       "      <td>1</td>\n",
       "      <td>2</td>\n",
       "      <td>0</td>\n",
       "      <td>2</td>\n",
       "      <td>True</td>\n",
       "      <td>0</td>\n",
       "      <td>1</td>\n",
       "    </tr>\n",
       "    <tr>\n",
       "      <th>24057</th>\n",
       "      <td>Twitter Web App</td>\n",
       "      <td>2014-04-02 19:34:00</td>\n",
       "      <td>Etats-Unis</td>\n",
       "      <td>BSC Gems Hunter &amp; Promoter 🏆 | DM us for SHILL...</td>\n",
       "      <td>100178</td>\n",
       "      <td>False</td>\n",
       "      <td>16/03/2022</td>\n",
       "      <td>2022-03-16 16:16:00</td>\n",
       "      <td>Someone transferred $86,720,000 in #Bitcoin an...</td>\n",
       "      <td>positive</td>\n",
       "      <td>1</td>\n",
       "      <td>1</td>\n",
       "      <td>0</td>\n",
       "      <td>2</td>\n",
       "      <td>False</td>\n",
       "      <td>1</td>\n",
       "      <td>1</td>\n",
       "    </tr>\n",
       "    <tr>\n",
       "      <th>3120</th>\n",
       "      <td>Twitter Web App</td>\n",
       "      <td>2021-04-06 02:45:00</td>\n",
       "      <td>California, USA</td>\n",
       "      <td>✨\"Everyday is a bank account, and time is our ...</td>\n",
       "      <td>100224</td>\n",
       "      <td>False</td>\n",
       "      <td>19/07/2021</td>\n",
       "      <td>2021-07-19 07:53:00</td>\n",
       "      <td>Some people think Bitcoin is not the future\\n\\...</td>\n",
       "      <td>positive</td>\n",
       "      <td>1</td>\n",
       "      <td>0</td>\n",
       "      <td>0</td>\n",
       "      <td>2</td>\n",
       "      <td>False</td>\n",
       "      <td>0</td>\n",
       "      <td>1</td>\n",
       "    </tr>\n",
       "    <tr>\n",
       "      <th>...</th>\n",
       "      <td>...</td>\n",
       "      <td>...</td>\n",
       "      <td>...</td>\n",
       "      <td>...</td>\n",
       "      <td>...</td>\n",
       "      <td>...</td>\n",
       "      <td>...</td>\n",
       "      <td>...</td>\n",
       "      <td>...</td>\n",
       "      <td>...</td>\n",
       "      <td>...</td>\n",
       "      <td>...</td>\n",
       "      <td>...</td>\n",
       "      <td>...</td>\n",
       "      <td>...</td>\n",
       "      <td>...</td>\n",
       "      <td>...</td>\n",
       "    </tr>\n",
       "    <tr>\n",
       "      <th>1141</th>\n",
       "      <td>SocialFlow</td>\n",
       "      <td>2007-03-20 17:46:00</td>\n",
       "      <td>Around the world</td>\n",
       "      <td>Top and breaking news, pictures and videos fro...</td>\n",
       "      <td>23494917</td>\n",
       "      <td>True</td>\n",
       "      <td>22/06/2021</td>\n",
       "      <td>2021-06-22 11:20:00</td>\n",
       "      <td>#Bitcoin regained some ground, a day after tou...</td>\n",
       "      <td>positive</td>\n",
       "      <td>1</td>\n",
       "      <td>2</td>\n",
       "      <td>2</td>\n",
       "      <td>0</td>\n",
       "      <td>True</td>\n",
       "      <td>0</td>\n",
       "      <td>1</td>\n",
       "    </tr>\n",
       "    <tr>\n",
       "      <th>5568</th>\n",
       "      <td>SocialFlow</td>\n",
       "      <td>2007-03-20 17:46:00</td>\n",
       "      <td>Around the world</td>\n",
       "      <td>Top and breaking news, pictures and videos fro...</td>\n",
       "      <td>23597270</td>\n",
       "      <td>True</td>\n",
       "      <td>23/07/2021</td>\n",
       "      <td>2021-07-23 21:13:00</td>\n",
       "      <td>With typhoon season around the corner for Toky...</td>\n",
       "      <td>positive</td>\n",
       "      <td>1</td>\n",
       "      <td>2</td>\n",
       "      <td>2</td>\n",
       "      <td>0</td>\n",
       "      <td>True</td>\n",
       "      <td>1</td>\n",
       "      <td>1</td>\n",
       "    </tr>\n",
       "    <tr>\n",
       "      <th>5435</th>\n",
       "      <td>Twitter Web App</td>\n",
       "      <td>2007-03-20 17:46:00</td>\n",
       "      <td>Around the world</td>\n",
       "      <td>Top and breaking news, pictures and videos fro...</td>\n",
       "      <td>23597283</td>\n",
       "      <td>True</td>\n",
       "      <td>23/07/2021</td>\n",
       "      <td>2021-07-23 15:34:00</td>\n",
       "      <td>Japanese tennis star Naomi Osaka lights the #O...</td>\n",
       "      <td>positive</td>\n",
       "      <td>1</td>\n",
       "      <td>2</td>\n",
       "      <td>2</td>\n",
       "      <td>2</td>\n",
       "      <td>True</td>\n",
       "      <td>0</td>\n",
       "      <td>1</td>\n",
       "    </tr>\n",
       "    <tr>\n",
       "      <th>19902</th>\n",
       "      <td>SocialFlow</td>\n",
       "      <td>2007-03-20 17:46:00</td>\n",
       "      <td>Around the world</td>\n",
       "      <td>Top and breaking news, pictures and videos fro...</td>\n",
       "      <td>24032114</td>\n",
       "      <td>True</td>\n",
       "      <td>25/11/2021</td>\n",
       "      <td>2021-11-25 14:52:00</td>\n",
       "      <td>El Salvador's President Nayib Bukele took the ...</td>\n",
       "      <td>positive</td>\n",
       "      <td>1</td>\n",
       "      <td>2</td>\n",
       "      <td>2</td>\n",
       "      <td>0</td>\n",
       "      <td>True</td>\n",
       "      <td>1</td>\n",
       "      <td>1</td>\n",
       "    </tr>\n",
       "    <tr>\n",
       "      <th>21025</th>\n",
       "      <td>Twitter Media Studio</td>\n",
       "      <td>2007-03-20 17:46:00</td>\n",
       "      <td>Around the world</td>\n",
       "      <td>Top and breaking news, pictures and videos fro...</td>\n",
       "      <td>24131346</td>\n",
       "      <td>True</td>\n",
       "      <td>30/12/2021</td>\n",
       "      <td>2021-12-30 19:20:00</td>\n",
       "      <td>From the rise of memecoins to #Bitcoin’s reign...</td>\n",
       "      <td>positive</td>\n",
       "      <td>1</td>\n",
       "      <td>2</td>\n",
       "      <td>2</td>\n",
       "      <td>0</td>\n",
       "      <td>True</td>\n",
       "      <td>0</td>\n",
       "      <td>1</td>\n",
       "    </tr>\n",
       "  </tbody>\n",
       "</table>\n",
       "<p>25780 rows × 17 columns</p>\n",
       "</div>"
      ],
      "text/plain": [
       "                     source        user_created     user_location  \\\n",
       "25122    Twitter for iPhone 2013-02-13 19:24:00               NaN   \n",
       "18556    Twitter for iPhone 2009-06-10 11:45:00   Los Angeles, CA   \n",
       "14373       Twitter Web App 2008-09-26 06:54:00       Atlanta, GA   \n",
       "24057       Twitter Web App 2014-04-02 19:34:00        Etats-Unis   \n",
       "3120        Twitter Web App 2021-04-06 02:45:00   California, USA   \n",
       "...                     ...                 ...               ...   \n",
       "1141             SocialFlow 2007-03-20 17:46:00  Around the world   \n",
       "5568             SocialFlow 2007-03-20 17:46:00  Around the world   \n",
       "5435        Twitter Web App 2007-03-20 17:46:00  Around the world   \n",
       "19902            SocialFlow 2007-03-20 17:46:00  Around the world   \n",
       "21025  Twitter Media Studio 2007-03-20 17:46:00  Around the world   \n",
       "\n",
       "                                        user_description  user_followers  \\\n",
       "25122              Ministro de Hacienda/Finance Minister          100107   \n",
       "18556  #RokkStar BookMuZicKing@Gmail.com | IG: MuZicK...          100141   \n",
       "14373  Launched a couple Call of Duty’s (the Zombies ...          100153   \n",
       "24057  BSC Gems Hunter & Promoter 🏆 | DM us for SHILL...          100178   \n",
       "3120   ✨\"Everyday is a bank account, and time is our ...          100224   \n",
       "...                                                  ...             ...   \n",
       "1141   Top and breaking news, pictures and videos fro...        23494917   \n",
       "5568   Top and breaking news, pictures and videos fro...        23597270   \n",
       "5435   Top and breaking news, pictures and videos fro...        23597283   \n",
       "19902  Top and breaking news, pictures and videos fro...        24032114   \n",
       "21025  Top and breaking news, pictures and videos fro...        24131346   \n",
       "\n",
       "       user_verified        date            date_new  \\\n",
       "25122           True  24/03/2022 2022-03-24 21:23:00   \n",
       "18556           True  12/11/2021 2021-11-12 19:08:00   \n",
       "14373           True  20/10/2021 2021-10-20 10:55:00   \n",
       "24057          False  16/03/2022 2022-03-16 16:16:00   \n",
       "3120           False  19/07/2021 2021-07-19 07:53:00   \n",
       "...              ...         ...                 ...   \n",
       "1141            True  22/06/2021 2021-06-22 11:20:00   \n",
       "5568            True  23/07/2021 2021-07-23 21:13:00   \n",
       "5435            True  23/07/2021 2021-07-23 15:34:00   \n",
       "19902           True  25/11/2021 2021-11-25 14:52:00   \n",
       "21025           True  30/12/2021 2021-12-30 19:20:00   \n",
       "\n",
       "                                                   tweet      pred  \\\n",
       "25122  Work 🇸🇻.\\n\\nVolcano #Bitcoin Bond. https://t.c...  positive   \n",
       "18556  The best #Bitcoin ETF is probably $BITO or $BT...  positive   \n",
       "14373  @cz_binance Historically, it takes 20, 50, 100...  positive   \n",
       "24057  Someone transferred $86,720,000 in #Bitcoin an...  positive   \n",
       "3120   Some people think Bitcoin is not the future\\n\\...  positive   \n",
       "...                                                  ...       ...   \n",
       "1141   #Bitcoin regained some ground, a day after tou...  positive   \n",
       "5568   With typhoon season around the corner for Toky...  positive   \n",
       "5435   Japanese tennis star Naomi Osaka lights the #O...  positive   \n",
       "19902  El Salvador's President Nayib Bukele took the ...  positive   \n",
       "21025  From the rise of memecoins to #Bitcoin’s reign...  positive   \n",
       "\n",
       "       location_new_feature  seniority  popularity  source_group  \\\n",
       "25122                     0          2           0             1   \n",
       "18556                     1          2           0             1   \n",
       "14373                     1          2           0             2   \n",
       "24057                     1          1           0             2   \n",
       "3120                      1          0           0             2   \n",
       "...                     ...        ...         ...           ...   \n",
       "1141                      1          2           2             0   \n",
       "5568                      1          2           2             0   \n",
       "5435                      1          2           2             2   \n",
       "19902                     1          2           2             0   \n",
       "21025                     1          2           2             0   \n",
       "\n",
       "       aggregationOfSeniorityWithVerified  label  predBinary  \n",
       "25122                                True      0           1  \n",
       "18556                                True      1           1  \n",
       "14373                                True      0           1  \n",
       "24057                               False      1           1  \n",
       "3120                                False      0           1  \n",
       "...                                   ...    ...         ...  \n",
       "1141                                 True      0           1  \n",
       "5568                                 True      1           1  \n",
       "5435                                 True      0           1  \n",
       "19902                                True      1           1  \n",
       "21025                                True      0           1  \n",
       "\n",
       "[25780 rows x 17 columns]"
      ]
     },
     "execution_count": 38,
     "metadata": {},
     "output_type": "execute_result"
    }
   ],
   "source": [
    "dfTweets"
   ]
  },
  {
   "cell_type": "markdown",
   "metadata": {},
   "source": [
    "Start Model - Decisioning Tree"
   ]
  },
  {
   "cell_type": "code",
   "execution_count": 34,
   "metadata": {},
   "outputs": [],
   "source": [
    "from sklearn import tree\n",
    "from sklearn.model_selection import train_test_split\n",
    "training_data, testing_data = train_test_split(dfTweets[['user_verified' , 'predBinary' , 'location_new_feature' , 'seniority' , 'popularity' , 'aggregationOfSeniorityWithVerified' , 'label']], random_state=0)\n",
    "X_train , y_train=np.array(training_data)[:,[0,1,2,3,4,5]] , np.array(training_data)[:,6]\n",
    "X_test , y_test=np.array(testing_data)[:,[0,1,2,3,4,5]] , np.array(testing_data)[:,6]\n",
    "y_train=y_train.astype('int32')\n",
    "y_test=y_test.astype('int32')\n",
    "\n"
   ]
  },
  {
   "cell_type": "code",
   "execution_count": 35,
   "metadata": {},
   "outputs": [
    {
     "name": "stdout",
     "output_type": "stream",
     "text": [
      "0.5281613653995345\n"
     ]
    }
   ],
   "source": [
    "clf = tree.DecisionTreeClassifier(criterion=\"entropy\", splitter=\"random\")\n",
    "clf = clf.fit(X_train , y_train)\n",
    "predictions=clf.predict(X_test)\n",
    "matches = np.count_nonzero(predictions == y_test)\n",
    "print(matches/len(predictions))"
   ]
  },
  {
   "cell_type": "code",
   "execution_count": 36,
   "metadata": {},
   "outputs": [
    {
     "name": "stdout",
     "output_type": "stream",
     "text": [
      "0.53033359193173\n"
     ]
    }
   ],
   "source": [
    "predictions=clf.predict(X_train)\n",
    "matches = np.count_nonzero(predictions == y_train)\n",
    "print(matches/len(predictions))"
   ]
  },
  {
   "cell_type": "code",
   "execution_count": 37,
   "metadata": {},
   "outputs": [
    {
     "data": {
      "text/plain": [
       "[Text(0.3837962962962963, 0.9375, 'X[3] <= 0.72\\nentropy = 0.998\\nsamples = 19335\\nvalue = [9148, 10187]'),\n",
       " Text(0.17222222222222222, 0.8125, 'X[2] <= 0.275\\nentropy = 0.996\\nsamples = 6486\\nvalue = [3004, 3482]'),\n",
       " Text(0.08148148148148149, 0.6875, 'X[1] <= 0.865\\nentropy = 0.994\\nsamples = 3649\\nvalue = [1665, 1984]'),\n",
       " Text(0.04814814814814815, 0.5625, 'X[4] <= 1.498\\nentropy = 0.989\\nsamples = 1392\\nvalue = [611, 781]'),\n",
       " Text(0.02962962962962963, 0.4375, 'X[4] <= 0.018\\nentropy = 0.989\\nsamples = 1378\\nvalue = [604, 774]'),\n",
       " Text(0.014814814814814815, 0.3125, 'X[5] <= 0.582\\nentropy = 0.987\\nsamples = 1263\\nvalue = [548, 715]'),\n",
       " Text(0.007407407407407408, 0.1875, 'entropy = 0.987\\nsamples = 1262\\nvalue = [547, 715]'),\n",
       " Text(0.022222222222222223, 0.1875, 'entropy = 0.0\\nsamples = 1\\nvalue = [1, 0]'),\n",
       " Text(0.044444444444444446, 0.3125, 'X[5] <= 0.349\\nentropy = 1.0\\nsamples = 115\\nvalue = [56, 59]'),\n",
       " Text(0.037037037037037035, 0.1875, 'entropy = 0.999\\nsamples = 108\\nvalue = [52, 56]'),\n",
       " Text(0.05185185185185185, 0.1875, 'entropy = 0.985\\nsamples = 7\\nvalue = [4, 3]'),\n",
       " Text(0.06666666666666667, 0.4375, 'X[0] <= 0.762\\nentropy = 1.0\\nsamples = 14\\nvalue = [7, 7]'),\n",
       " Text(0.05925925925925926, 0.3125, 'entropy = 0.946\\nsamples = 11\\nvalue = [7, 4]'),\n",
       " Text(0.07407407407407407, 0.3125, 'entropy = 0.0\\nsamples = 3\\nvalue = [0, 3]'),\n",
       " Text(0.11481481481481481, 0.5625, 'X[4] <= 0.497\\nentropy = 0.997\\nsamples = 2257\\nvalue = [1054, 1203]'),\n",
       " Text(0.0962962962962963, 0.4375, 'X[5] <= 0.431\\nentropy = 0.999\\nsamples = 1653\\nvalue = [798, 855]'),\n",
       " Text(0.08888888888888889, 0.3125, 'entropy = 0.999\\nsamples = 1630\\nvalue = [787, 843]'),\n",
       " Text(0.1037037037037037, 0.3125, 'entropy = 0.999\\nsamples = 23\\nvalue = [11, 12]'),\n",
       " Text(0.13333333333333333, 0.4375, 'X[0] <= 0.049\\nentropy = 0.983\\nsamples = 604\\nvalue = [256, 348]'),\n",
       " Text(0.11851851851851852, 0.3125, 'X[4] <= 1.226\\nentropy = 0.981\\nsamples = 544\\nvalue = [228, 316]'),\n",
       " Text(0.1111111111111111, 0.1875, 'entropy = 0.982\\nsamples = 397\\nvalue = [167, 230]'),\n",
       " Text(0.1259259259259259, 0.1875, 'entropy = 0.979\\nsamples = 147\\nvalue = [61, 86]'),\n",
       " Text(0.14814814814814814, 0.3125, 'X[4] <= 1.094\\nentropy = 0.997\\nsamples = 60\\nvalue = [28, 32]'),\n",
       " Text(0.14074074074074075, 0.1875, 'entropy = 0.995\\nsamples = 48\\nvalue = [22, 26]'),\n",
       " Text(0.15555555555555556, 0.1875, 'entropy = 1.0\\nsamples = 12\\nvalue = [6, 6]'),\n",
       " Text(0.26296296296296295, 0.6875, 'X[4] <= 1.646\\nentropy = 0.998\\nsamples = 2837\\nvalue = [1339, 1498]'),\n",
       " Text(0.2222222222222222, 0.5625, 'X[1] <= 0.614\\nentropy = 0.995\\nsamples = 1542\\nvalue = [706, 836]'),\n",
       " Text(0.1925925925925926, 0.4375, 'X[4] <= 0.48\\nentropy = 0.999\\nsamples = 430\\nvalue = [209, 221]'),\n",
       " Text(0.17777777777777778, 0.3125, 'X[0] <= 0.78\\nentropy = 1.0\\nsamples = 269\\nvalue = [135, 134]'),\n",
       " Text(0.17037037037037037, 0.1875, 'entropy = 1.0\\nsamples = 265\\nvalue = [134, 131]'),\n",
       " Text(0.18518518518518517, 0.1875, 'entropy = 0.811\\nsamples = 4\\nvalue = [1, 3]'),\n",
       " Text(0.2074074074074074, 0.3125, 'X[5] <= 0.039\\nentropy = 0.995\\nsamples = 161\\nvalue = [74, 87]'),\n",
       " Text(0.2, 0.1875, 'entropy = 0.995\\nsamples = 152\\nvalue = [70, 82]'),\n",
       " Text(0.21481481481481482, 0.1875, 'entropy = 0.991\\nsamples = 9\\nvalue = [4, 5]'),\n",
       " Text(0.2518518518518518, 0.4375, 'X[4] <= 0.034\\nentropy = 0.992\\nsamples = 1112\\nvalue = [497, 615]'),\n",
       " Text(0.23703703703703705, 0.3125, 'X[0] <= 0.101\\nentropy = 0.994\\nsamples = 577\\nvalue = [263, 314]'),\n",
       " Text(0.22962962962962963, 0.1875, 'entropy = 0.996\\nsamples = 541\\nvalue = [250, 291]'),\n",
       " Text(0.24444444444444444, 0.1875, 'entropy = 0.944\\nsamples = 36\\nvalue = [13, 23]'),\n",
       " Text(0.26666666666666666, 0.3125, 'X[5] <= 0.154\\nentropy = 0.989\\nsamples = 535\\nvalue = [234, 301]'),\n",
       " Text(0.25925925925925924, 0.1875, 'entropy = 0.987\\nsamples = 447\\nvalue = [193, 254]'),\n",
       " Text(0.2740740740740741, 0.1875, 'entropy = 0.997\\nsamples = 88\\nvalue = [41, 47]'),\n",
       " Text(0.3037037037037037, 0.5625, 'X[5] <= 0.025\\nentropy = 1.0\\nsamples = 1295\\nvalue = [633, 662]'),\n",
       " Text(0.28888888888888886, 0.4375, 'X[1] <= 0.1\\nentropy = 1.0\\nsamples = 1105\\nvalue = [546, 559]'),\n",
       " Text(0.2814814814814815, 0.3125, 'entropy = 0.999\\nsamples = 96\\nvalue = [50, 46]'),\n",
       " Text(0.2962962962962963, 0.3125, 'entropy = 1.0\\nsamples = 1009\\nvalue = [496, 513]'),\n",
       " Text(0.31851851851851853, 0.4375, 'X[1] <= 0.915\\nentropy = 0.995\\nsamples = 190\\nvalue = [87, 103]'),\n",
       " Text(0.3111111111111111, 0.3125, 'entropy = 0.996\\nsamples = 28\\nvalue = [15, 13]'),\n",
       " Text(0.32592592592592595, 0.3125, 'entropy = 0.991\\nsamples = 162\\nvalue = [72, 90]'),\n",
       " Text(0.5953703703703703, 0.8125, 'X[4] <= 0.526\\nentropy = 0.999\\nsamples = 12849\\nvalue = [6144, 6705]'),\n",
       " Text(0.42777777777777776, 0.6875, 'X[1] <= 0.14\\nentropy = 1.0\\nsamples = 2702\\nvalue = [1320, 1382]'),\n",
       " Text(0.3814814814814815, 0.5625, 'X[0] <= 0.416\\nentropy = 0.995\\nsamples = 433\\nvalue = [198, 235]'),\n",
       " Text(0.35555555555555557, 0.4375, 'X[3] <= 1.059\\nentropy = 0.989\\nsamples = 306\\nvalue = [134, 172]'),\n",
       " Text(0.34074074074074073, 0.3125, 'X[2] <= 0.361\\nentropy = 0.992\\nsamples = 219\\nvalue = [98, 121]'),\n",
       " Text(0.3333333333333333, 0.1875, 'entropy = 0.993\\nsamples = 80\\nvalue = [36, 44]'),\n",
       " Text(0.34814814814814815, 0.1875, 'entropy = 0.992\\nsamples = 139\\nvalue = [62, 77]'),\n",
       " Text(0.37037037037037035, 0.3125, 'X[2] <= 0.057\\nentropy = 0.978\\nsamples = 87\\nvalue = [36, 51]'),\n",
       " Text(0.362962962962963, 0.1875, 'entropy = 0.887\\nsamples = 23\\nvalue = [7, 16]'),\n",
       " Text(0.37777777777777777, 0.1875, 'entropy = 0.994\\nsamples = 64\\nvalue = [29, 35]'),\n",
       " Text(0.4074074074074074, 0.4375, 'X[3] <= 1.043\\nentropy = 1.0\\nsamples = 127\\nvalue = [64, 63]'),\n",
       " Text(0.4, 0.3125, 'X[2] <= 0.916\\nentropy = 0.992\\nsamples = 78\\nvalue = [43, 35]'),\n",
       " Text(0.3925925925925926, 0.1875, 'entropy = 0.996\\nsamples = 13\\nvalue = [6, 7]'),\n",
       " Text(0.4074074074074074, 0.1875, 'entropy = 0.986\\nsamples = 65\\nvalue = [37, 28]'),\n",
       " Text(0.4148148148148148, 0.3125, 'entropy = 0.985\\nsamples = 49\\nvalue = [21, 28]'),\n",
       " Text(0.4740740740740741, 0.5625, 'X[2] <= 0.282\\nentropy = 1.0\\nsamples = 2269\\nvalue = [1122, 1147]'),\n",
       " Text(0.4444444444444444, 0.4375, 'X[5] <= 0.318\\nentropy = 0.999\\nsamples = 402\\nvalue = [193, 209]'),\n",
       " Text(0.42962962962962964, 0.3125, 'X[3] <= 1.668\\nentropy = 1.0\\nsamples = 321\\nvalue = [159, 162]'),\n",
       " Text(0.4222222222222222, 0.1875, 'entropy = 1.0\\nsamples = 243\\nvalue = [120, 123]'),\n",
       " Text(0.43703703703703706, 0.1875, 'entropy = 1.0\\nsamples = 78\\nvalue = [39, 39]'),\n",
       " Text(0.45925925925925926, 0.3125, 'X[3] <= 1.877\\nentropy = 0.981\\nsamples = 81\\nvalue = [34, 47]'),\n",
       " Text(0.45185185185185184, 0.1875, 'entropy = 0.954\\nsamples = 64\\nvalue = [24, 40]'),\n",
       " Text(0.4666666666666667, 0.1875, 'entropy = 0.977\\nsamples = 17\\nvalue = [10, 7]'),\n",
       " Text(0.5037037037037037, 0.4375, 'X[3] <= 1.526\\nentropy = 1.0\\nsamples = 1867\\nvalue = [929, 938]'),\n",
       " Text(0.4888888888888889, 0.3125, 'X[0] <= 0.967\\nentropy = 1.0\\nsamples = 1032\\nvalue = [513, 519]'),\n",
       " Text(0.48148148148148145, 0.1875, 'entropy = 1.0\\nsamples = 671\\nvalue = [329, 342]'),\n",
       " Text(0.4962962962962963, 0.1875, 'entropy = 1.0\\nsamples = 361\\nvalue = [184, 177]'),\n",
       " Text(0.5185185185185185, 0.3125, 'X[0] <= 0.808\\nentropy = 1.0\\nsamples = 835\\nvalue = [416, 419]'),\n",
       " Text(0.5111111111111111, 0.1875, 'entropy = 1.0\\nsamples = 531\\nvalue = [269, 262]'),\n",
       " Text(0.5259259259259259, 0.1875, 'entropy = 0.999\\nsamples = 304\\nvalue = [147, 157]'),\n",
       " Text(0.762962962962963, 0.6875, 'X[0] <= 0.485\\nentropy = 0.998\\nsamples = 10147\\nvalue = [4824, 5323]'),\n",
       " Text(0.6444444444444445, 0.5625, 'X[2] <= 0.464\\nentropy = 0.999\\nsamples = 5000\\nvalue = [2388, 2612]'),\n",
       " Text(0.5851851851851851, 0.4375, 'X[1] <= 0.84\\nentropy = 0.999\\nsamples = 2121\\nvalue = [1018, 1103]'),\n",
       " Text(0.5555555555555556, 0.3125, 'X[4] <= 1.289\\nentropy = 1.0\\nsamples = 401\\nvalue = [200, 201]'),\n",
       " Text(0.5407407407407407, 0.1875, 'X[3] <= 1.338\\nentropy = 1.0\\nsamples = 326\\nvalue = [164, 162]'),\n",
       " Text(0.5333333333333333, 0.0625, 'entropy = 1.0\\nsamples = 297\\nvalue = [150, 147]'),\n",
       " Text(0.5481481481481482, 0.0625, 'entropy = 0.999\\nsamples = 29\\nvalue = [14, 15]'),\n",
       " Text(0.5703703703703704, 0.1875, 'X[3] <= 1.022\\nentropy = 0.999\\nsamples = 75\\nvalue = [36, 39]'),\n",
       " Text(0.562962962962963, 0.0625, 'entropy = 0.985\\nsamples = 42\\nvalue = [18, 24]'),\n",
       " Text(0.5777777777777777, 0.0625, 'entropy = 0.994\\nsamples = 33\\nvalue = [18, 15]'),\n",
       " Text(0.6148148148148148, 0.3125, 'X[4] <= 1.828\\nentropy = 0.998\\nsamples = 1720\\nvalue = [818, 902]'),\n",
       " Text(0.6, 0.1875, 'X[3] <= 1.775\\nentropy = 0.999\\nsamples = 1339\\nvalue = [642, 697]'),\n",
       " Text(0.5925925925925926, 0.0625, 'entropy = 0.998\\nsamples = 1148\\nvalue = [546, 602]'),\n",
       " Text(0.6074074074074074, 0.0625, 'entropy = 1.0\\nsamples = 191\\nvalue = [96, 95]'),\n",
       " Text(0.6296296296296297, 0.1875, 'X[3] <= 1.619\\nentropy = 0.996\\nsamples = 381\\nvalue = [176, 205]'),\n",
       " Text(0.6222222222222222, 0.0625, 'entropy = 0.998\\nsamples = 201\\nvalue = [95, 106]'),\n",
       " Text(0.6370370370370371, 0.0625, 'entropy = 0.993\\nsamples = 180\\nvalue = [81, 99]'),\n",
       " Text(0.7037037037037037, 0.4375, 'X[1] <= 0.054\\nentropy = 0.998\\nsamples = 2879\\nvalue = [1370, 1509]'),\n",
       " Text(0.674074074074074, 0.3125, 'X[3] <= 1.467\\nentropy = 0.997\\nsamples = 434\\nvalue = [202, 232]'),\n",
       " Text(0.6592592592592592, 0.1875, 'X[4] <= 1.688\\nentropy = 0.986\\nsamples = 188\\nvalue = [81, 107]'),\n",
       " Text(0.6518518518518519, 0.0625, 'entropy = 0.975\\nsamples = 130\\nvalue = [53, 77]'),\n",
       " Text(0.6666666666666666, 0.0625, 'entropy = 0.999\\nsamples = 58\\nvalue = [28, 30]'),\n",
       " Text(0.6888888888888889, 0.1875, 'X[4] <= 1.983\\nentropy = 1.0\\nsamples = 246\\nvalue = [121, 125]'),\n",
       " Text(0.6814814814814815, 0.0625, 'entropy = 1.0\\nsamples = 186\\nvalue = [91, 95]'),\n",
       " Text(0.6962962962962963, 0.0625, 'entropy = 1.0\\nsamples = 60\\nvalue = [30, 30]'),\n",
       " Text(0.7333333333333333, 0.3125, 'X[3] <= 1.494\\nentropy = 0.999\\nsamples = 2445\\nvalue = [1168, 1277]'),\n",
       " Text(0.7185185185185186, 0.1875, 'X[4] <= 1.353\\nentropy = 0.999\\nsamples = 1164\\nvalue = [566, 598]'),\n",
       " Text(0.7111111111111111, 0.0625, 'entropy = 0.999\\nsamples = 729\\nvalue = [350, 379]'),\n",
       " Text(0.725925925925926, 0.0625, 'entropy = 1.0\\nsamples = 435\\nvalue = [216, 219]'),\n",
       " Text(0.7481481481481481, 0.1875, 'X[4] <= 1.44\\nentropy = 0.997\\nsamples = 1281\\nvalue = [602, 679]'),\n",
       " Text(0.7407407407407407, 0.0625, 'entropy = 0.998\\nsamples = 1032\\nvalue = [491, 541]'),\n",
       " Text(0.7555555555555555, 0.0625, 'entropy = 0.992\\nsamples = 249\\nvalue = [111, 138]'),\n",
       " Text(0.8814814814814815, 0.5625, 'X[2] <= 0.451\\nentropy = 0.998\\nsamples = 5147\\nvalue = [2436, 2711]'),\n",
       " Text(0.8222222222222222, 0.4375, 'X[4] <= 1.781\\nentropy = 0.993\\nsamples = 638\\nvalue = [288, 350]'),\n",
       " Text(0.7925925925925926, 0.3125, 'X[3] <= 1.354\\nentropy = 0.97\\nsamples = 173\\nvalue = [69, 104]'),\n",
       " Text(0.7777777777777778, 0.1875, 'X[1] <= 0.198\\nentropy = 0.947\\nsamples = 115\\nvalue = [42, 73]'),\n",
       " Text(0.7703703703703704, 0.0625, 'entropy = 0.954\\nsamples = 16\\nvalue = [6, 10]'),\n",
       " Text(0.7851851851851852, 0.0625, 'entropy = 0.946\\nsamples = 99\\nvalue = [36, 63]'),\n",
       " Text(0.8074074074074075, 0.1875, 'X[1] <= 0.786\\nentropy = 0.997\\nsamples = 58\\nvalue = [27, 31]'),\n",
       " Text(0.8, 0.0625, 'entropy = 0.991\\nsamples = 9\\nvalue = [5, 4]'),\n",
       " Text(0.8148148148148148, 0.0625, 'entropy = 0.992\\nsamples = 49\\nvalue = [22, 27]'),\n",
       " Text(0.8518518518518519, 0.3125, 'X[1] <= 0.961\\nentropy = 0.998\\nsamples = 465\\nvalue = [219, 246]'),\n",
       " Text(0.837037037037037, 0.1875, 'X[3] <= 1.167\\nentropy = 0.949\\nsamples = 57\\nvalue = [21, 36]'),\n",
       " Text(0.8296296296296296, 0.0625, 'entropy = 0.908\\nsamples = 34\\nvalue = [11, 23]'),\n",
       " Text(0.8444444444444444, 0.0625, 'entropy = 0.988\\nsamples = 23\\nvalue = [10, 13]'),\n",
       " Text(0.8666666666666667, 0.1875, 'X[3] <= 1.544\\nentropy = 0.999\\nsamples = 408\\nvalue = [198, 210]'),\n",
       " Text(0.8592592592592593, 0.0625, 'entropy = 0.998\\nsamples = 312\\nvalue = [147, 165]'),\n",
       " Text(0.8740740740740741, 0.0625, 'entropy = 0.997\\nsamples = 96\\nvalue = [51, 45]'),\n",
       " Text(0.9407407407407408, 0.4375, 'X[3] <= 1.396\\nentropy = 0.998\\nsamples = 4509\\nvalue = [2148, 2361]'),\n",
       " Text(0.9111111111111111, 0.3125, 'X[4] <= 1.707\\nentropy = 0.999\\nsamples = 1294\\nvalue = [629, 665]'),\n",
       " Text(0.8962962962962963, 0.1875, 'X[1] <= 0.424\\nentropy = 0.996\\nsamples = 434\\nvalue = [200, 234]'),\n",
       " Text(0.8888888888888888, 0.0625, 'entropy = 0.985\\nsamples = 56\\nvalue = [24, 32]'),\n",
       " Text(0.9037037037037037, 0.0625, 'entropy = 0.997\\nsamples = 378\\nvalue = [176, 202]'),\n",
       " Text(0.9259259259259259, 0.1875, 'X[1] <= 0.045\\nentropy = 1.0\\nsamples = 860\\nvalue = [429, 431]'),\n",
       " Text(0.9185185185185185, 0.0625, 'entropy = 0.994\\nsamples = 145\\nvalue = [79, 66]'),\n",
       " Text(0.9333333333333333, 0.0625, 'entropy = 1.0\\nsamples = 715\\nvalue = [350, 365]'),\n",
       " Text(0.9703703703703703, 0.3125, 'X[4] <= 1.408\\nentropy = 0.998\\nsamples = 3215\\nvalue = [1519, 1696]'),\n",
       " Text(0.9555555555555556, 0.1875, 'X[1] <= 0.413\\nentropy = 1.0\\nsamples = 833\\nvalue = [414, 419]'),\n",
       " Text(0.9481481481481482, 0.0625, 'entropy = 1.0\\nsamples = 136\\nvalue = [68, 68]'),\n",
       " Text(0.9629629629629629, 0.0625, 'entropy = 1.0\\nsamples = 697\\nvalue = [346, 351]'),\n",
       " Text(0.9851851851851852, 0.1875, 'X[1] <= 0.97\\nentropy = 0.996\\nsamples = 2382\\nvalue = [1105, 1277]'),\n",
       " Text(0.9777777777777777, 0.0625, 'entropy = 0.988\\nsamples = 407\\nvalue = [177, 230]'),\n",
       " Text(0.9925925925925926, 0.0625, 'entropy = 0.997\\nsamples = 1975\\nvalue = [928, 1047]')]"
      ]
     },
     "execution_count": 37,
     "metadata": {},
     "output_type": "execute_result"
    },
    {
     "data": {
      "image/png": "[encoded data removed]",
      "text/plain": [
       "<Figure size 432x288 with 1 Axes>"
      ]
     },
     "metadata": {
      "needs_background": "light"
     },
     "output_type": "display_data"
    }
   ],
   "source": [
    "tree.plot_tree(clf)"
   ]
  },
  {
   "cell_type": "markdown",
   "metadata": {},
   "source": [
    "Discrete Naive Bayes "
   ]
  },
  {
   "cell_type": "code",
   "execution_count": 29,
   "metadata": {},
   "outputs": [
    {
     "name": "stdout",
     "output_type": "stream",
     "text": [
      "0.5244375484871994\n"
     ]
    }
   ],
   "source": [
    "from sklearn.naive_bayes import MultinomialNB\n",
    "clf = MultinomialNB()\n",
    "clf.fit(X_train, y_train)\n",
    "predictions=clf.predict(X_test)\n",
    "matches = np.count_nonzero(predictions == y_test)\n",
    "print(matches/len(predictions))"
   ]
  }
 ],
 "metadata": {
  "interpreter": {
   "hash": "b0fa6594d8f4cbf19f97940f81e996739fb7646882a419484c72d19e05852a7e"
  },
  "kernelspec": {
   "display_name": "Python 3.9.7 64-bit",
   "language": "python",
   "name": "python3"
  },
  "language_info": {
   "codemirror_mode": {
    "name": "ipython",
    "version": 3
   },
   "file_extension": ".py",
   "mimetype": "text/x-python",
   "name": "python",
   "nbconvert_exporter": "python",
   "pygments_lexer": "ipython3",
   "version": "3.9.7"
  },
  "orig_nbformat": 4
 },
 "nbformat": 4,
 "nbformat_minor": 2
}
